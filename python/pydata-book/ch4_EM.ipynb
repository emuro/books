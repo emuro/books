{
 "cells": [
  {
   "cell_type": "markdown",
   "id": "0786614f",
   "metadata": {},
   "source": [
    "# 4  NumPy Basics: Arrays and Vectorized Computation"
   ]
  },
  {
   "cell_type": "code",
   "execution_count": 1,
   "id": "e91fd6a6",
   "metadata": {},
   "outputs": [],
   "source": [
    "import numpy as np\n",
    "\n",
    "elems = 10**6\n",
    "np_arr = np.arange(elems)\n",
    "l_arr = list(range(elems))\n"
   ]
  },
  {
   "cell_type": "markdown",
   "id": "004a96fb",
   "metadata": {},
   "source": [
    "#### computational comparation of np.array and list"
   ]
  },
  {
   "cell_type": "code",
   "execution_count": 2,
   "id": "8e42a5a2",
   "metadata": {},
   "outputs": [
    {
     "name": "stdout",
     "output_type": "stream",
     "text": [
      "CPU times: user 19.5 ms, sys: 3.88 ms, total: 23.4 ms\n",
      "Wall time: 22.7 ms\n"
     ]
    }
   ],
   "source": [
    "%time for _ in range(10): np_arr * 2 "
   ]
  },
  {
   "cell_type": "code",
   "execution_count": 3,
   "id": "acd73b6c",
   "metadata": {},
   "outputs": [
    {
     "name": "stdout",
     "output_type": "stream",
     "text": [
      "CPU times: user 525 ms, sys: 115 ms, total: 641 ms\n",
      "Wall time: 643 ms\n"
     ]
    }
   ],
   "source": [
    "%time for _ in range(10): [x * 2 for x in l_arr]"
   ]
  },
  {
   "cell_type": "code",
   "execution_count": null,
   "id": "aeefff49",
   "metadata": {},
   "outputs": [],
   "source": []
  },
  {
   "cell_type": "markdown",
   "id": "cdcb8589",
   "metadata": {},
   "source": [
    "## Multidimensional array"
   ]
  },
  {
   "cell_type": "code",
   "execution_count": 4,
   "id": "abfe6945",
   "metadata": {},
   "outputs": [],
   "source": [
    "import numpy as np"
   ]
  },
  {
   "cell_type": "code",
   "execution_count": 5,
   "id": "24abc627",
   "metadata": {},
   "outputs": [
    {
     "data": {
      "text/plain": [
       "array([[ 0.42846392, -0.05377925, -0.6987901 ],\n",
       "       [ 0.96560994, -1.1956351 , -0.08666424]])"
      ]
     },
     "execution_count": 5,
     "metadata": {},
     "output_type": "execute_result"
    }
   ],
   "source": [
    "data = np.random.randn(2,3) # normal distribution\n",
    "data "
   ]
  },
  {
   "cell_type": "code",
   "execution_count": 6,
   "id": "29cebf65",
   "metadata": {},
   "outputs": [
    {
     "data": {
      "text/plain": [
       "array([[3004.28463919, 2999.4622075 , 2993.01209897],\n",
       "       [3009.65609942, 2988.04364898, 2999.13335755]])"
      ]
     },
     "execution_count": 6,
     "metadata": {},
     "output_type": "execute_result"
    }
   ],
   "source": [
    "mu = 3000\n",
    "sigma = 10\n",
    "data * sigma + mu # normal distribution"
   ]
  },
  {
   "cell_type": "code",
   "execution_count": 7,
   "id": "95dedbdb",
   "metadata": {},
   "outputs": [
    {
     "data": {
      "text/plain": [
       "array([[ 0.85692784, -0.1075585 , -1.39758021],\n",
       "       [ 1.93121988, -2.3912702 , -0.17332849]])"
      ]
     },
     "execution_count": 7,
     "metadata": {},
     "output_type": "execute_result"
    }
   ],
   "source": [
    "data + data"
   ]
  },
  {
   "cell_type": "code",
   "execution_count": null,
   "id": "9b390c16",
   "metadata": {},
   "outputs": [],
   "source": []
  },
  {
   "cell_type": "code",
   "execution_count": 8,
   "id": "403f41b4",
   "metadata": {},
   "outputs": [
    {
     "data": {
      "text/plain": [
       "(2, 3)"
      ]
     },
     "execution_count": 8,
     "metadata": {},
     "output_type": "execute_result"
    }
   ],
   "source": [
    "data.shape"
   ]
  },
  {
   "cell_type": "code",
   "execution_count": 9,
   "id": "3e4febc6",
   "metadata": {},
   "outputs": [
    {
     "data": {
      "text/plain": [
       "dtype('float64')"
      ]
     },
     "execution_count": 9,
     "metadata": {},
     "output_type": "execute_result"
    }
   ],
   "source": [
    "data.dtype"
   ]
  },
  {
   "cell_type": "code",
   "execution_count": 10,
   "id": "688a601c",
   "metadata": {},
   "outputs": [
    {
     "data": {
      "text/plain": [
       "numpy.ndarray"
      ]
     },
     "execution_count": 10,
     "metadata": {},
     "output_type": "execute_result"
    }
   ],
   "source": [
    "type(data)"
   ]
  },
  {
   "cell_type": "code",
   "execution_count": null,
   "id": "886c9eda",
   "metadata": {},
   "outputs": [],
   "source": []
  },
  {
   "cell_type": "markdown",
   "id": "7c444af4",
   "metadata": {},
   "source": [
    "## Creating an ndarray"
   ]
  },
  {
   "cell_type": "code",
   "execution_count": 11,
   "id": "f3a6fbbb",
   "metadata": {},
   "outputs": [
    {
     "name": "stdout",
     "output_type": "stream",
     "text": [
      "(4,)\n",
      "float64\n",
      "1\n"
     ]
    },
    {
     "data": {
      "text/plain": [
       "array([1. , 2. , 3.3, 4.4])"
      ]
     },
     "execution_count": 11,
     "metadata": {},
     "output_type": "execute_result"
    }
   ],
   "source": [
    "data_l = [1,2,3.3,4.4]\n",
    "data_np = np.array(data_l)\n",
    "print(data_np.shape)\n",
    "print(data_np.dtype)\n",
    "print(data_np.ndim)\n",
    "data_np"
   ]
  },
  {
   "cell_type": "code",
   "execution_count": 12,
   "id": "e07efa76",
   "metadata": {},
   "outputs": [
    {
     "name": "stdout",
     "output_type": "stream",
     "text": [
      "(2, 4)\n",
      "float64\n",
      "2\n"
     ]
    },
    {
     "data": {
      "text/plain": [
       "array([[1. , 2. , 3.3, 4.4],\n",
       "       [5. , 6. , 7. , 8. ]])"
      ]
     },
     "execution_count": 12,
     "metadata": {},
     "output_type": "execute_result"
    }
   ],
   "source": [
    "data_l = [[1,2,3.3,4.4], [5,6,7,8]]\n",
    "data_np = np.array(data_l)\n",
    "print(data_np.shape)\n",
    "print(data_np.dtype)\n",
    "print(data_np.ndim)\n",
    "data_np"
   ]
  },
  {
   "cell_type": "code",
   "execution_count": null,
   "id": "25da1d66",
   "metadata": {},
   "outputs": [],
   "source": []
  },
  {
   "cell_type": "code",
   "execution_count": 13,
   "id": "f811013b",
   "metadata": {},
   "outputs": [
    {
     "data": {
      "text/plain": [
       "array([[0., 0., 0., 0., 0., 0., 0., 0., 0., 0.],\n",
       "       [0., 0., 0., 0., 0., 0., 0., 0., 0., 0.],\n",
       "       [0., 0., 0., 0., 0., 0., 0., 0., 0., 0.]])"
      ]
     },
     "execution_count": 13,
     "metadata": {},
     "output_type": "execute_result"
    }
   ],
   "source": [
    "np.zeros((3, 10))"
   ]
  },
  {
   "cell_type": "code",
   "execution_count": 14,
   "id": "99bb453a",
   "metadata": {},
   "outputs": [
    {
     "data": {
      "text/plain": [
       "array([[[0.85692784],\n",
       "        [0.1075585 ],\n",
       "        [1.39758021]],\n",
       "\n",
       "       [[1.93121988],\n",
       "        [2.3912702 ],\n",
       "        [0.17332849]]])"
      ]
     },
     "execution_count": 14,
     "metadata": {},
     "output_type": "execute_result"
    }
   ],
   "source": [
    "np.empty((2, 3, 1)) # garbage vals"
   ]
  },
  {
   "cell_type": "code",
   "execution_count": 15,
   "id": "94ee35c9",
   "metadata": {},
   "outputs": [
    {
     "data": {
      "text/plain": [
       "array([1., 1., 1., 1., 1.])"
      ]
     },
     "execution_count": 15,
     "metadata": {},
     "output_type": "execute_result"
    }
   ],
   "source": [
    "np.ones(5)"
   ]
  },
  {
   "cell_type": "code",
   "execution_count": null,
   "id": "e37be18a",
   "metadata": {},
   "outputs": [],
   "source": []
  },
  {
   "cell_type": "code",
   "execution_count": 16,
   "id": "c55470f5",
   "metadata": {},
   "outputs": [
    {
     "data": {
      "text/plain": [
       "array([ 0,  1,  2,  3,  4,  5,  6,  7,  8,  9, 10, 11, 12, 13, 14])"
      ]
     },
     "execution_count": 16,
     "metadata": {},
     "output_type": "execute_result"
    }
   ],
   "source": [
    "np.arange(15)"
   ]
  },
  {
   "cell_type": "code",
   "execution_count": 17,
   "id": "eba1f7f7",
   "metadata": {},
   "outputs": [
    {
     "data": {
      "text/plain": [
       "array([[1., 0., 0., 0., 0.],\n",
       "       [0., 1., 0., 0., 0.],\n",
       "       [0., 0., 1., 0., 0.],\n",
       "       [0., 0., 0., 1., 0.],\n",
       "       [0., 0., 0., 0., 1.]])"
      ]
     },
     "execution_count": 17,
     "metadata": {},
     "output_type": "execute_result"
    }
   ],
   "source": [
    "np.eye(5)"
   ]
  },
  {
   "cell_type": "code",
   "execution_count": 18,
   "id": "c810016e",
   "metadata": {},
   "outputs": [
    {
     "data": {
      "text/plain": [
       "array([[nan, nan, nan, nan],\n",
       "       [nan, nan, nan, nan]])"
      ]
     },
     "execution_count": 18,
     "metadata": {},
     "output_type": "execute_result"
    }
   ],
   "source": [
    "np.full_like(data_np, np.nan)"
   ]
  },
  {
   "cell_type": "code",
   "execution_count": 19,
   "id": "0d74855f",
   "metadata": {},
   "outputs": [],
   "source": [
    "my_array1 = np.array([1,2,3.,4.])\n",
    "my_array2 = np.array([1,2,3.,4.], dtype='int32')"
   ]
  },
  {
   "cell_type": "code",
   "execution_count": 20,
   "id": "7a6dce0b",
   "metadata": {},
   "outputs": [
    {
     "name": "stdout",
     "output_type": "stream",
     "text": [
      "float64\n",
      "int32\n"
     ]
    }
   ],
   "source": [
    "print(my_array1.dtype)\n",
    "print(my_array2.dtype)"
   ]
  },
  {
   "cell_type": "markdown",
   "id": "fabb79e3",
   "metadata": {},
   "source": [
    "## np.astype()"
   ]
  },
  {
   "cell_type": "code",
   "execution_count": 21,
   "id": "9e1147aa",
   "metadata": {},
   "outputs": [
    {
     "data": {
      "text/plain": [
       "array([1, 2, 3, 4], dtype=int32)"
      ]
     },
     "execution_count": 21,
     "metadata": {},
     "output_type": "execute_result"
    }
   ],
   "source": [
    "my_array1.astype('int32')"
   ]
  },
  {
   "cell_type": "code",
   "execution_count": null,
   "id": "bc478841",
   "metadata": {},
   "outputs": [],
   "source": []
  },
  {
   "cell_type": "markdown",
   "id": "702c0690",
   "metadata": {},
   "source": [
    "## Arithmetic with NumPy Arrays"
   ]
  },
  {
   "cell_type": "code",
   "execution_count": 22,
   "id": "5bb78324",
   "metadata": {},
   "outputs": [
    {
     "data": {
      "text/plain": [
       "dtype('float64')"
      ]
     },
     "execution_count": 22,
     "metadata": {},
     "output_type": "execute_result"
    }
   ],
   "source": [
    "arr = np.array([[1,2,3],[4,5,6.]], dtype='float64')\n",
    "arr.dtype"
   ]
  },
  {
   "cell_type": "code",
   "execution_count": 23,
   "id": "33fc412e",
   "metadata": {},
   "outputs": [
    {
     "data": {
      "text/plain": [
       "array([[ 2.,  4.,  6.],\n",
       "       [ 8., 10., 12.]])"
      ]
     },
     "execution_count": 23,
     "metadata": {},
     "output_type": "execute_result"
    }
   ],
   "source": [
    "arr + arr"
   ]
  },
  {
   "cell_type": "code",
   "execution_count": 24,
   "id": "f2119b55",
   "metadata": {},
   "outputs": [
    {
     "data": {
      "text/plain": [
       "array([[ 1.,  4.,  9.],\n",
       "       [16., 25., 36.]])"
      ]
     },
     "execution_count": 24,
     "metadata": {},
     "output_type": "execute_result"
    }
   ],
   "source": [
    "arr * arr # No hace el cálculo matricial"
   ]
  },
  {
   "cell_type": "code",
   "execution_count": 25,
   "id": "3b7ac3ae",
   "metadata": {},
   "outputs": [
    {
     "data": {
      "text/plain": [
       "array([[0., 0., 0.],\n",
       "       [0., 0., 0.]])"
      ]
     },
     "execution_count": 25,
     "metadata": {},
     "output_type": "execute_result"
    }
   ],
   "source": [
    "arr - arr"
   ]
  },
  {
   "cell_type": "code",
   "execution_count": 26,
   "id": "ac8bf45d",
   "metadata": {},
   "outputs": [
    {
     "data": {
      "text/plain": [
       "array([[1., 1., 1.],\n",
       "       [1., 1., 1.]])"
      ]
     },
     "execution_count": 26,
     "metadata": {},
     "output_type": "execute_result"
    }
   ],
   "source": [
    "arr/arr"
   ]
  },
  {
   "cell_type": "code",
   "execution_count": 27,
   "id": "978ae668",
   "metadata": {},
   "outputs": [
    {
     "data": {
      "text/plain": [
       "array([[1.        , 0.5       , 0.33333333],\n",
       "       [0.25      , 0.2       , 0.16666667]])"
      ]
     },
     "execution_count": 27,
     "metadata": {},
     "output_type": "execute_result"
    }
   ],
   "source": [
    "1/arr"
   ]
  },
  {
   "cell_type": "code",
   "execution_count": 28,
   "id": "e07e3a2c",
   "metadata": {},
   "outputs": [
    {
     "data": {
      "text/plain": [
       "array([[ 1.,  4.,  9.],\n",
       "       [16., 25., 36.]])"
      ]
     },
     "execution_count": 28,
     "metadata": {},
     "output_type": "execute_result"
    }
   ],
   "source": [
    "arr**2"
   ]
  },
  {
   "cell_type": "code",
   "execution_count": 29,
   "id": "015891c0",
   "metadata": {},
   "outputs": [
    {
     "data": {
      "text/plain": [
       "array([[1.        , 1.41421356, 1.73205081],\n",
       "       [2.        , 2.23606798, 2.44948974]])"
      ]
     },
     "execution_count": 29,
     "metadata": {},
     "output_type": "execute_result"
    }
   ],
   "source": [
    "arr ** 0.5"
   ]
  },
  {
   "cell_type": "code",
   "execution_count": 30,
   "id": "c7bf5e6f",
   "metadata": {},
   "outputs": [
    {
     "data": {
      "text/plain": [
       "array([[ 3.,  6.,  9.],\n",
       "       [12., 15., 18.]])"
      ]
     },
     "execution_count": 30,
     "metadata": {},
     "output_type": "execute_result"
    }
   ],
   "source": [
    "arr2 = 3*arr\n",
    "arr2"
   ]
  },
  {
   "cell_type": "code",
   "execution_count": 31,
   "id": "56282b2d",
   "metadata": {},
   "outputs": [
    {
     "data": {
      "text/plain": [
       "array([[ True,  True,  True],\n",
       "       [ True,  True,  True]])"
      ]
     },
     "execution_count": 31,
     "metadata": {},
     "output_type": "execute_result"
    }
   ],
   "source": [
    "arr2>arr"
   ]
  },
  {
   "cell_type": "code",
   "execution_count": 32,
   "id": "934fc9bd",
   "metadata": {},
   "outputs": [
    {
     "data": {
      "text/plain": [
       "array([[False, False, False],\n",
       "       [False, False, False]])"
      ]
     },
     "execution_count": 32,
     "metadata": {},
     "output_type": "execute_result"
    }
   ],
   "source": [
    "arr2<arr"
   ]
  },
  {
   "cell_type": "code",
   "execution_count": null,
   "id": "359fa18b",
   "metadata": {},
   "outputs": [],
   "source": []
  },
  {
   "cell_type": "markdown",
   "id": "9fd4aba0",
   "metadata": {},
   "source": [
    "## Basic indexing and slicing"
   ]
  },
  {
   "cell_type": "code",
   "execution_count": 33,
   "id": "2fe2cebd",
   "metadata": {},
   "outputs": [],
   "source": [
    "arr = np.arange(5)"
   ]
  },
  {
   "cell_type": "code",
   "execution_count": 34,
   "id": "2cef36b2",
   "metadata": {},
   "outputs": [
    {
     "data": {
      "text/plain": [
       "array([0, 1, 2, 3, 4])"
      ]
     },
     "execution_count": 34,
     "metadata": {},
     "output_type": "execute_result"
    }
   ],
   "source": [
    "arr"
   ]
  },
  {
   "cell_type": "code",
   "execution_count": 35,
   "id": "efc2151a",
   "metadata": {},
   "outputs": [
    {
     "data": {
      "text/plain": [
       "2"
      ]
     },
     "execution_count": 35,
     "metadata": {},
     "output_type": "execute_result"
    }
   ],
   "source": [
    "arr[2]"
   ]
  },
  {
   "cell_type": "code",
   "execution_count": 36,
   "id": "f4f7d4b4",
   "metadata": {},
   "outputs": [
    {
     "data": {
      "text/plain": [
       "array([3, 4])"
      ]
     },
     "execution_count": 36,
     "metadata": {},
     "output_type": "execute_result"
    }
   ],
   "source": [
    "arr[3:]"
   ]
  },
  {
   "cell_type": "code",
   "execution_count": 37,
   "id": "988533ef",
   "metadata": {},
   "outputs": [
    {
     "data": {
      "text/plain": [
       "5"
      ]
     },
     "execution_count": 37,
     "metadata": {},
     "output_type": "execute_result"
    }
   ],
   "source": [
    "len(arr)"
   ]
  },
  {
   "cell_type": "code",
   "execution_count": 38,
   "id": "865af3be",
   "metadata": {},
   "outputs": [
    {
     "data": {
      "text/plain": [
       "array([3])"
      ]
     },
     "execution_count": 38,
     "metadata": {},
     "output_type": "execute_result"
    }
   ],
   "source": [
    "arr[3:4]"
   ]
  },
  {
   "cell_type": "code",
   "execution_count": 39,
   "id": "242e158c",
   "metadata": {},
   "outputs": [],
   "source": [
    "arr[2:5] = 33"
   ]
  },
  {
   "cell_type": "code",
   "execution_count": 40,
   "id": "4d28b13f",
   "metadata": {},
   "outputs": [
    {
     "data": {
      "text/plain": [
       "array([ 0,  1, 33, 33, 33])"
      ]
     },
     "execution_count": 40,
     "metadata": {},
     "output_type": "execute_result"
    }
   ],
   "source": [
    "arr"
   ]
  },
  {
   "cell_type": "code",
   "execution_count": 41,
   "id": "bd8fa6bd",
   "metadata": {},
   "outputs": [
    {
     "data": {
      "text/plain": [
       "array([0, 1])"
      ]
     },
     "execution_count": 41,
     "metadata": {},
     "output_type": "execute_result"
    }
   ],
   "source": [
    "arr2 = arr[0:2]\n",
    "arr2"
   ]
  },
  {
   "cell_type": "code",
   "execution_count": 42,
   "id": "7d90d067",
   "metadata": {},
   "outputs": [
    {
     "data": {
      "text/plain": [
       "array([99,  1, 33, 33, 33])"
      ]
     },
     "execution_count": 42,
     "metadata": {},
     "output_type": "execute_result"
    }
   ],
   "source": [
    "arr2[0] = 99\n",
    "arr"
   ]
  },
  {
   "cell_type": "code",
   "execution_count": 43,
   "id": "f3f2032a",
   "metadata": {},
   "outputs": [
    {
     "data": {
      "text/plain": [
       "array([5555, 5555,   33,   33,   33])"
      ]
     },
     "execution_count": 43,
     "metadata": {},
     "output_type": "execute_result"
    }
   ],
   "source": [
    "arr2[:] = 5555\n",
    "arr"
   ]
  },
  {
   "cell_type": "code",
   "execution_count": 44,
   "id": "b356a285",
   "metadata": {},
   "outputs": [
    {
     "data": {
      "text/plain": [
       "array([5555, 5555,   33,   33,   33])"
      ]
     },
     "execution_count": 44,
     "metadata": {},
     "output_type": "execute_result"
    }
   ],
   "source": [
    "arr3 = arr.copy()\n",
    "arr4 = arr3[0:2]\n",
    "arr4[:] = 999\n",
    "arr"
   ]
  },
  {
   "cell_type": "code",
   "execution_count": null,
   "id": "1a294aff",
   "metadata": {},
   "outputs": [],
   "source": []
  },
  {
   "cell_type": "code",
   "execution_count": 45,
   "id": "66e7b71c",
   "metadata": {},
   "outputs": [],
   "source": [
    "arr2d = np.array([[1, 2, 3], [4, 5, 6], [7, 8, 9]])"
   ]
  },
  {
   "cell_type": "code",
   "execution_count": 46,
   "id": "6477963b",
   "metadata": {},
   "outputs": [
    {
     "data": {
      "text/plain": [
       "2"
      ]
     },
     "execution_count": 46,
     "metadata": {},
     "output_type": "execute_result"
    }
   ],
   "source": [
    "arr2d[0][1]"
   ]
  },
  {
   "cell_type": "code",
   "execution_count": 47,
   "id": "8b296de7",
   "metadata": {},
   "outputs": [
    {
     "data": {
      "text/plain": [
       "2"
      ]
     },
     "execution_count": 47,
     "metadata": {},
     "output_type": "execute_result"
    }
   ],
   "source": [
    "arr2d[0, 1]"
   ]
  },
  {
   "cell_type": "code",
   "execution_count": 48,
   "id": "276392ab",
   "metadata": {},
   "outputs": [
    {
     "data": {
      "text/plain": [
       "array([[ 1, 99,  3],\n",
       "       [ 4,  5,  6],\n",
       "       [ 7,  8,  9]])"
      ]
     },
     "execution_count": 48,
     "metadata": {},
     "output_type": "execute_result"
    }
   ],
   "source": [
    "arr2d[0, 1] = 99\n",
    "arr2d"
   ]
  },
  {
   "cell_type": "code",
   "execution_count": null,
   "id": "6767c53d",
   "metadata": {},
   "outputs": [],
   "source": []
  },
  {
   "cell_type": "code",
   "execution_count": 49,
   "id": "83ed8137",
   "metadata": {},
   "outputs": [
    {
     "name": "stdout",
     "output_type": "stream",
     "text": [
      "[[[ 1  2  3]\n",
      "  [ 4  5  6]]\n",
      "\n",
      " [[ 7  8  9]\n",
      "  [10 11 12]]]\n",
      "\n",
      " 6\n",
      "\n",
      " [[ 7  8  9]\n",
      " [10 11 12]]\n",
      "\n",
      " [10 11 12]\n"
     ]
    }
   ],
   "source": [
    "arr3d = np.array([[ [1, 2, 3],[4, 5, 6]], [[7, 8, 9], [10, 11, 12]] ])\n",
    "print(arr3d)\n",
    "print(\"\\n\", arr3d[0,1,2])\n",
    "print(\"\\n\", arr3d[1])\n",
    "print(\"\\n\", arr3d[1,1])"
   ]
  },
  {
   "cell_type": "code",
   "execution_count": 50,
   "id": "9759d9d7",
   "metadata": {},
   "outputs": [],
   "source": [
    "x = arr3d[1].copy()"
   ]
  },
  {
   "cell_type": "code",
   "execution_count": 51,
   "id": "48e3a038",
   "metadata": {},
   "outputs": [
    {
     "data": {
      "text/plain": [
       "array([[ 7,  8,  9],\n",
       "       [10, 11, 12]])"
      ]
     },
     "execution_count": 51,
     "metadata": {},
     "output_type": "execute_result"
    }
   ],
   "source": [
    "x"
   ]
  },
  {
   "cell_type": "code",
   "execution_count": 52,
   "id": "0be3ded7",
   "metadata": {},
   "outputs": [
    {
     "data": {
      "text/plain": [
       "array([7, 8, 9])"
      ]
     },
     "execution_count": 52,
     "metadata": {},
     "output_type": "execute_result"
    }
   ],
   "source": [
    "x[0]"
   ]
  },
  {
   "cell_type": "code",
   "execution_count": 53,
   "id": "ebcc94e5",
   "metadata": {},
   "outputs": [],
   "source": [
    "x[0,2] = 99"
   ]
  },
  {
   "cell_type": "code",
   "execution_count": 54,
   "id": "353d33bd",
   "metadata": {},
   "outputs": [
    {
     "data": {
      "text/plain": [
       "array([[[ 1,  2,  3],\n",
       "        [ 4,  5,  6]],\n",
       "\n",
       "       [[ 7,  8,  9],\n",
       "        [10, 11, 12]]])"
      ]
     },
     "execution_count": 54,
     "metadata": {},
     "output_type": "execute_result"
    }
   ],
   "source": [
    "arr3d"
   ]
  },
  {
   "cell_type": "code",
   "execution_count": 55,
   "id": "4e82d2c3",
   "metadata": {},
   "outputs": [
    {
     "data": {
      "text/plain": [
       "array([[ 7,  8, 99],\n",
       "       [10, 11, 12]])"
      ]
     },
     "execution_count": 55,
     "metadata": {},
     "output_type": "execute_result"
    }
   ],
   "source": [
    "x"
   ]
  },
  {
   "cell_type": "code",
   "execution_count": null,
   "id": "c4799d4d",
   "metadata": {},
   "outputs": [],
   "source": []
  },
  {
   "cell_type": "markdown",
   "id": "a1a92a53",
   "metadata": {},
   "source": [
    "### Indexing with slices"
   ]
  },
  {
   "cell_type": "code",
   "execution_count": 56,
   "id": "416ba9c9",
   "metadata": {},
   "outputs": [
    {
     "data": {
      "text/plain": [
       "array([ 1,  2,  3,  4, 64])"
      ]
     },
     "execution_count": 56,
     "metadata": {},
     "output_type": "execute_result"
    }
   ],
   "source": [
    "arr = np.array([ 0,  1,  2,  3,  4, 64, 64, 64,  8,  9])\n",
    "arr[1:6]"
   ]
  },
  {
   "cell_type": "code",
   "execution_count": 57,
   "id": "1eb79b4e",
   "metadata": {},
   "outputs": [
    {
     "data": {
      "text/plain": [
       "array([[ 1, 99,  3],\n",
       "       [ 4,  5,  6],\n",
       "       [ 7,  8,  9]])"
      ]
     },
     "execution_count": 57,
     "metadata": {},
     "output_type": "execute_result"
    }
   ],
   "source": [
    "arr2d"
   ]
  },
  {
   "cell_type": "code",
   "execution_count": 58,
   "id": "b5ea17a6",
   "metadata": {},
   "outputs": [
    {
     "data": {
      "text/plain": [
       "array([[ 1, 99,  3],\n",
       "       [ 4,  5,  6]])"
      ]
     },
     "execution_count": 58,
     "metadata": {},
     "output_type": "execute_result"
    }
   ],
   "source": [
    "arr2d[:2]"
   ]
  },
  {
   "cell_type": "code",
   "execution_count": 59,
   "id": "525e0d60",
   "metadata": {},
   "outputs": [
    {
     "data": {
      "text/plain": [
       "array([[99,  3],\n",
       "       [ 5,  6]])"
      ]
     },
     "execution_count": 59,
     "metadata": {},
     "output_type": "execute_result"
    }
   ],
   "source": [
    "arr2d[:2,1:]"
   ]
  },
  {
   "cell_type": "code",
   "execution_count": 60,
   "id": "3dc7952e",
   "metadata": {},
   "outputs": [
    {
     "data": {
      "text/plain": [
       "array([99,  5])"
      ]
     },
     "execution_count": 60,
     "metadata": {},
     "output_type": "execute_result"
    }
   ],
   "source": [
    "arr2d[:2,1]"
   ]
  },
  {
   "cell_type": "code",
   "execution_count": 61,
   "id": "5ea7a151",
   "metadata": {},
   "outputs": [
    {
     "data": {
      "text/plain": [
       "array([4, 5])"
      ]
     },
     "execution_count": 61,
     "metadata": {},
     "output_type": "execute_result"
    }
   ],
   "source": [
    "arr2d[1,:2]"
   ]
  },
  {
   "cell_type": "code",
   "execution_count": 62,
   "id": "13ac93bc",
   "metadata": {},
   "outputs": [
    {
     "data": {
      "text/plain": [
       "array([3, 6])"
      ]
     },
     "execution_count": 62,
     "metadata": {},
     "output_type": "execute_result"
    }
   ],
   "source": [
    "arr2d[:2, 2]"
   ]
  },
  {
   "cell_type": "code",
   "execution_count": 63,
   "id": "f7a175a9",
   "metadata": {},
   "outputs": [
    {
     "data": {
      "text/plain": [
       "array([[1],\n",
       "       [4],\n",
       "       [7]])"
      ]
     },
     "execution_count": 63,
     "metadata": {},
     "output_type": "execute_result"
    }
   ],
   "source": [
    "arr2d[:, :1]"
   ]
  },
  {
   "cell_type": "code",
   "execution_count": 64,
   "id": "bdce5e84",
   "metadata": {},
   "outputs": [
    {
     "name": "stdout",
     "output_type": "stream",
     "text": [
      "[[ 1 99  3]\n",
      " [ 4  5  6]\n",
      " [ 7  8  9]]\n",
      "(2, 2)\n",
      "[[1 0 0]\n",
      " [4 0 0]\n",
      " [7 8 9]]\n"
     ]
    }
   ],
   "source": [
    "print(arr2d)\n",
    "arr2d[:2, 1:] = 0\n",
    "print(arr2d[:2, 1:].shape)\n",
    "print(arr2d)"
   ]
  },
  {
   "cell_type": "code",
   "execution_count": 65,
   "id": "aae1b5d2",
   "metadata": {},
   "outputs": [
    {
     "name": "stdout",
     "output_type": "stream",
     "text": [
      "[[-0.26497439  0.52358103 -0.58707552]\n",
      " [ 0.46426188  0.78830894 -0.11122949]\n",
      " [ 0.54205313 -2.06462012 -1.80440672]]\n",
      "(3,)\n",
      "[[-0.26497439  0.52358103 -0.58707552]\n",
      " [ 0.46426188  0.78830894 -0.11122949]\n",
      " [ 0.          0.          0.        ]]\n"
     ]
    }
   ],
   "source": [
    "arr2d=np.random.randn(3,3)\n",
    "print(arr2d)\n",
    "arr2d[2] = 0\n",
    "print(arr2d[2].shape)\n",
    "print(arr2d)"
   ]
  },
  {
   "cell_type": "code",
   "execution_count": 66,
   "id": "251ef2cc",
   "metadata": {},
   "outputs": [
    {
     "name": "stdout",
     "output_type": "stream",
     "text": [
      "[[ 0.60965149 -1.07966425  1.81412387]\n",
      " [ 0.24492279 -0.43773485 -0.60522452]\n",
      " [-0.64358887  1.14429629 -1.65746855]]\n",
      "(3,)\n",
      "[[ 0.60965149 -1.07966425  1.81412387]\n",
      " [ 0.24492279 -0.43773485 -0.60522452]\n",
      " [ 0.          0.          0.        ]]\n"
     ]
    }
   ],
   "source": [
    "arr2d=np.random.randn(3,3)\n",
    "print(arr2d)\n",
    "arr2d[2] = 0\n",
    "print(arr2d[2].shape)\n",
    "print(arr2d)"
   ]
  },
  {
   "cell_type": "code",
   "execution_count": null,
   "id": "b7036032",
   "metadata": {},
   "outputs": [],
   "source": []
  },
  {
   "cell_type": "code",
   "execution_count": 67,
   "id": "1f74d18b",
   "metadata": {},
   "outputs": [
    {
     "data": {
      "text/plain": [
       "array([[[ 1,  2,  3],\n",
       "        [ 4,  5,  6]],\n",
       "\n",
       "       [[ 7,  8,  9],\n",
       "        [10, 11, 12]]])"
      ]
     },
     "execution_count": 67,
     "metadata": {},
     "output_type": "execute_result"
    }
   ],
   "source": [
    "import numpy as np\n",
    "array3d = np.array([[[1,2,3],[4,5,6]],[[7,8,9],[10,11,12]]])\n",
    "array3d"
   ]
  },
  {
   "cell_type": "code",
   "execution_count": 68,
   "id": "2beb2d7b",
   "metadata": {},
   "outputs": [
    {
     "data": {
      "text/plain": [
       "array([[[13, 13, 13],\n",
       "        [13, 13, 13]],\n",
       "\n",
       "       [[ 7,  8,  9],\n",
       "        [10, 11, 12]]])"
      ]
     },
     "execution_count": 68,
     "metadata": {},
     "output_type": "execute_result"
    }
   ],
   "source": [
    "a3d_cp=array3d[0].copy()\n",
    "array3d[0]=13\n",
    "array3d"
   ]
  },
  {
   "cell_type": "code",
   "execution_count": 69,
   "id": "2ecfa8f5",
   "metadata": {},
   "outputs": [
    {
     "data": {
      "text/plain": [
       "array([[[ 1,  2,  3],\n",
       "        [ 4,  5,  6]],\n",
       "\n",
       "       [[ 7,  8,  9],\n",
       "        [10, 11, 12]]])"
      ]
     },
     "execution_count": 69,
     "metadata": {},
     "output_type": "execute_result"
    }
   ],
   "source": [
    "array3d[0]=a3d_cp\n",
    "array3d"
   ]
  },
  {
   "cell_type": "code",
   "execution_count": 70,
   "id": "28c90d16",
   "metadata": {},
   "outputs": [
    {
     "data": {
      "text/plain": [
       "array([[ 7,  8,  9],\n",
       "       [10, 11, 12]])"
      ]
     },
     "execution_count": 70,
     "metadata": {},
     "output_type": "execute_result"
    }
   ],
   "source": [
    "x=array3d[1]\n",
    "x"
   ]
  },
  {
   "cell_type": "code",
   "execution_count": 71,
   "id": "363e900f",
   "metadata": {},
   "outputs": [
    {
     "data": {
      "text/plain": [
       "array([[1, 2, 3],\n",
       "       [4, 5, 6],\n",
       "       [7, 8, 9]])"
      ]
     },
     "execution_count": 71,
     "metadata": {},
     "output_type": "execute_result"
    }
   ],
   "source": [
    "arr2d=np.array([[1, 2, 3],[4, 5, 6],[7, 8, 9]])\n",
    "arr2d"
   ]
  },
  {
   "cell_type": "code",
   "execution_count": 72,
   "id": "3ec3187a",
   "metadata": {},
   "outputs": [
    {
     "data": {
      "text/plain": [
       "array([[5, 6],\n",
       "       [8, 9]])"
      ]
     },
     "execution_count": 72,
     "metadata": {},
     "output_type": "execute_result"
    }
   ],
   "source": [
    "arr2d[1:,1:]"
   ]
  },
  {
   "cell_type": "code",
   "execution_count": 73,
   "id": "28e2aa21",
   "metadata": {},
   "outputs": [
    {
     "data": {
      "text/plain": [
       "array([[2, 3],\n",
       "       [5, 6]])"
      ]
     },
     "execution_count": 73,
     "metadata": {},
     "output_type": "execute_result"
    }
   ],
   "source": [
    "arr2d[:2,1:]"
   ]
  },
  {
   "cell_type": "code",
   "execution_count": 74,
   "id": "9211d148",
   "metadata": {},
   "outputs": [
    {
     "data": {
      "text/plain": [
       "array([4, 5])"
      ]
     },
     "execution_count": 74,
     "metadata": {},
     "output_type": "execute_result"
    }
   ],
   "source": [
    "arr2d[1,:2]"
   ]
  },
  {
   "cell_type": "code",
   "execution_count": 75,
   "id": "87ad1c3a",
   "metadata": {},
   "outputs": [
    {
     "data": {
      "text/plain": [
       "array([3, 6])"
      ]
     },
     "execution_count": 75,
     "metadata": {},
     "output_type": "execute_result"
    }
   ],
   "source": [
    "arr2d[:2,2]"
   ]
  },
  {
   "cell_type": "code",
   "execution_count": 76,
   "id": "d86776ef",
   "metadata": {},
   "outputs": [
    {
     "data": {
      "text/plain": [
       "array([[1],\n",
       "       [4],\n",
       "       [7]])"
      ]
     },
     "execution_count": 76,
     "metadata": {},
     "output_type": "execute_result"
    }
   ],
   "source": [
    "arr2d[:,:1]"
   ]
  },
  {
   "cell_type": "code",
   "execution_count": null,
   "id": "0818f48d",
   "metadata": {},
   "outputs": [],
   "source": []
  },
  {
   "cell_type": "markdown",
   "id": "7b3eed1e",
   "metadata": {},
   "source": [
    "## Boolean indexing"
   ]
  },
  {
   "cell_type": "code",
   "execution_count": 77,
   "id": "93576c55",
   "metadata": {},
   "outputs": [
    {
     "data": {
      "text/plain": [
       "array(['Bob', 'Joe', 'Will', 'Bob', 'Will', 'Joe', 'Joe'], dtype='<U4')"
      ]
     },
     "execution_count": 77,
     "metadata": {},
     "output_type": "execute_result"
    }
   ],
   "source": [
    "names = np.array(['Bob', 'Joe', 'Will', 'Bob', 'Will', 'Joe', 'Joe'])\n",
    "names\n"
   ]
  },
  {
   "cell_type": "code",
   "execution_count": 78,
   "id": "6aad8d47",
   "metadata": {},
   "outputs": [
    {
     "data": {
      "text/plain": [
       "array([[100.34449414, 100.1180271 ,  99.40327959, 100.06891679],\n",
       "       [101.0334102 , 100.46268886, 100.38845864,  99.31592058],\n",
       "       [100.03688625, 100.18192506,  99.40541583,  99.95654739],\n",
       "       [100.11316482, 100.20061934, 100.44819574, 101.01705587],\n",
       "       [100.22161572, 100.24783584,  99.57867978,  99.67168027],\n",
       "       [ 99.50835723, 100.06032479, 100.13980205, 100.53335573],\n",
       "       [101.13157204, 100.37130025,  99.70085831, 100.53353285]])"
      ]
     },
     "execution_count": 78,
     "metadata": {},
     "output_type": "execute_result"
    }
   ],
   "source": [
    "data = np.random.randn(7, 4)*0.5+100\n",
    "data"
   ]
  },
  {
   "cell_type": "code",
   "execution_count": 79,
   "id": "3cafbc52",
   "metadata": {},
   "outputs": [
    {
     "data": {
      "text/plain": [
       "array([ True, False, False,  True, False, False, False])"
      ]
     },
     "execution_count": 79,
     "metadata": {},
     "output_type": "execute_result"
    }
   ],
   "source": [
    "names == 'Bob'"
   ]
  },
  {
   "cell_type": "code",
   "execution_count": 80,
   "id": "d14e7194",
   "metadata": {},
   "outputs": [
    {
     "data": {
      "text/plain": [
       "array([[100.34449414, 100.1180271 ,  99.40327959, 100.06891679],\n",
       "       [100.11316482, 100.20061934, 100.44819574, 101.01705587]])"
      ]
     },
     "execution_count": 80,
     "metadata": {},
     "output_type": "execute_result"
    }
   ],
   "source": [
    "data[names=='Bob']"
   ]
  },
  {
   "cell_type": "code",
   "execution_count": 81,
   "id": "ae96679d",
   "metadata": {},
   "outputs": [
    {
     "data": {
      "text/plain": [
       "array([[ 99.40327959, 100.06891679],\n",
       "       [100.44819574, 101.01705587]])"
      ]
     },
     "execution_count": 81,
     "metadata": {},
     "output_type": "execute_result"
    }
   ],
   "source": [
    "data[names=='Bob', 2:]"
   ]
  },
  {
   "cell_type": "code",
   "execution_count": 82,
   "id": "4473cb76",
   "metadata": {},
   "outputs": [
    {
     "data": {
      "text/plain": [
       "array([100.06891679, 101.01705587])"
      ]
     },
     "execution_count": 82,
     "metadata": {},
     "output_type": "execute_result"
    }
   ],
   "source": [
    "data[names=='Bob', 3]"
   ]
  },
  {
   "cell_type": "code",
   "execution_count": 83,
   "id": "21f32e8a",
   "metadata": {},
   "outputs": [
    {
     "data": {
      "text/plain": [
       "array([[101.0334102 , 100.46268886, 100.38845864,  99.31592058],\n",
       "       [100.03688625, 100.18192506,  99.40541583,  99.95654739],\n",
       "       [100.22161572, 100.24783584,  99.57867978,  99.67168027],\n",
       "       [ 99.50835723, 100.06032479, 100.13980205, 100.53335573],\n",
       "       [101.13157204, 100.37130025,  99.70085831, 100.53353285]])"
      ]
     },
     "execution_count": 83,
     "metadata": {},
     "output_type": "execute_result"
    }
   ],
   "source": [
    "data[~(names=='Bob')]"
   ]
  },
  {
   "cell_type": "code",
   "execution_count": 84,
   "id": "f55ab38b",
   "metadata": {},
   "outputs": [],
   "source": [
    "cond = names=='Bob'"
   ]
  },
  {
   "cell_type": "code",
   "execution_count": 85,
   "id": "0ffd224f",
   "metadata": {},
   "outputs": [
    {
     "data": {
      "text/plain": [
       "array([[101.0334102 , 100.46268886, 100.38845864,  99.31592058],\n",
       "       [100.03688625, 100.18192506,  99.40541583,  99.95654739],\n",
       "       [100.22161572, 100.24783584,  99.57867978,  99.67168027],\n",
       "       [ 99.50835723, 100.06032479, 100.13980205, 100.53335573],\n",
       "       [101.13157204, 100.37130025,  99.70085831, 100.53353285]])"
      ]
     },
     "execution_count": 85,
     "metadata": {},
     "output_type": "execute_result"
    }
   ],
   "source": [
    "data[~cond]"
   ]
  },
  {
   "cell_type": "code",
   "execution_count": 86,
   "id": "73f76f58",
   "metadata": {},
   "outputs": [
    {
     "data": {
      "text/plain": [
       "array([ True,  True, False,  True, False,  True,  True])"
      ]
     },
     "execution_count": 86,
     "metadata": {},
     "output_type": "execute_result"
    }
   ],
   "source": [
    "mask = (names=='Bob') | (names=='Joe')\n",
    "mask"
   ]
  },
  {
   "cell_type": "code",
   "execution_count": 87,
   "id": "1efc6460",
   "metadata": {},
   "outputs": [
    {
     "data": {
      "text/plain": [
       "array([[100.03688625, 100.18192506,  99.40541583,  99.95654739],\n",
       "       [100.22161572, 100.24783584,  99.57867978,  99.67168027]])"
      ]
     },
     "execution_count": 87,
     "metadata": {},
     "output_type": "execute_result"
    }
   ],
   "source": [
    "data[~mask]"
   ]
  },
  {
   "cell_type": "code",
   "execution_count": 88,
   "id": "85f81003",
   "metadata": {},
   "outputs": [
    {
     "data": {
      "text/plain": [
       "array([[999.        , 999.        ,  99.40327959, 999.        ],\n",
       "       [999.        , 999.        , 999.        ,  99.31592058],\n",
       "       [999.        , 999.        ,  99.40541583,  99.95654739],\n",
       "       [999.        , 999.        , 999.        , 999.        ],\n",
       "       [999.        , 999.        ,  99.57867978,  99.67168027],\n",
       "       [ 99.50835723, 999.        , 999.        , 999.        ],\n",
       "       [999.        , 999.        ,  99.70085831, 999.        ]])"
      ]
     },
     "execution_count": 88,
     "metadata": {},
     "output_type": "execute_result"
    }
   ],
   "source": [
    "data[data>100]=999\n",
    "data"
   ]
  },
  {
   "cell_type": "code",
   "execution_count": 89,
   "id": "12ac2abc",
   "metadata": {},
   "outputs": [
    {
     "data": {
      "text/plain": [
       "array([[  7.        ,   7.        ,   7.        ,   7.        ],\n",
       "       [999.        , 999.        , 999.        ,  99.31592058],\n",
       "       [  7.        ,   7.        ,   7.        ,   7.        ],\n",
       "       [  7.        ,   7.        ,   7.        ,   7.        ],\n",
       "       [  7.        ,   7.        ,   7.        ,   7.        ],\n",
       "       [ 99.50835723, 999.        , 999.        , 999.        ],\n",
       "       [999.        , 999.        ,  99.70085831, 999.        ]])"
      ]
     },
     "execution_count": 89,
     "metadata": {},
     "output_type": "execute_result"
    }
   ],
   "source": [
    "data[names != 'Joe'] = 7\n",
    "data"
   ]
  },
  {
   "cell_type": "code",
   "execution_count": null,
   "id": "269cdbef",
   "metadata": {},
   "outputs": [],
   "source": []
  },
  {
   "cell_type": "markdown",
   "id": "88591e64",
   "metadata": {},
   "source": [
    "## Fancy indexing"
   ]
  },
  {
   "cell_type": "code",
   "execution_count": 90,
   "id": "28f194ca",
   "metadata": {},
   "outputs": [
    {
     "name": "stdout",
     "output_type": "stream",
     "text": [
      "[[1.89008963e-316 0.00000000e+000 0.00000000e+000 0.00000000e+000]\n",
      " [6.94635322e-310 5.02034658e+175 1.83093485e-076 8.85418137e+165]\n",
      " [2.44898059e-056 1.77428229e+160 1.53079487e-047 4.25942538e-096]\n",
      " [1.12855837e+277 8.93168725e+271 4.76484771e+180 1.70098498e+256]\n",
      " [5.49109388e-143 6.99645177e+228 1.35617292e+248 9.62734727e+183]\n",
      " [4.47032825e-090 6.17042841e-062 4.81721212e-038 1.05931250e+165]\n",
      " [5.28555805e+180 6.74640243e-067 6.98476580e-076 5.06636306e-086]\n",
      " [3.35558939e-143 9.30350598e+199 4.24941018e-086 6.94650366e-310]]\n"
     ]
    }
   ],
   "source": [
    "import numpy as np\n",
    "arr = np.empty((8,4))\n",
    "print(arr)"
   ]
  },
  {
   "cell_type": "code",
   "execution_count": 91,
   "id": "95b772ce",
   "metadata": {},
   "outputs": [
    {
     "data": {
      "text/plain": [
       "array([[0., 0., 0., 0.],\n",
       "       [1., 1., 1., 1.],\n",
       "       [2., 2., 2., 2.],\n",
       "       [3., 3., 3., 3.],\n",
       "       [4., 4., 4., 4.],\n",
       "       [5., 5., 5., 5.],\n",
       "       [6., 6., 6., 6.],\n",
       "       [7., 7., 7., 7.]])"
      ]
     },
     "execution_count": 91,
     "metadata": {},
     "output_type": "execute_result"
    }
   ],
   "source": [
    "for i in range(arr.shape[0]):\n",
    "    arr[i]=i\n",
    "arr"
   ]
  },
  {
   "cell_type": "code",
   "execution_count": 92,
   "id": "b7658721",
   "metadata": {},
   "outputs": [
    {
     "data": {
      "text/plain": [
       "array([[4., 4., 4., 4.],\n",
       "       [3., 3., 3., 3.],\n",
       "       [0., 0., 0., 0.],\n",
       "       [6., 6., 6., 6.]])"
      ]
     },
     "execution_count": 92,
     "metadata": {},
     "output_type": "execute_result"
    }
   ],
   "source": [
    "arr[[4,3,0,6]]"
   ]
  },
  {
   "cell_type": "code",
   "execution_count": 93,
   "id": "662ccd97",
   "metadata": {},
   "outputs": [],
   "source": [
    "arr = np.arange(32)\n",
    "arr = arr.reshape(8,4)"
   ]
  },
  {
   "cell_type": "code",
   "execution_count": 94,
   "id": "6ff1b473",
   "metadata": {},
   "outputs": [
    {
     "data": {
      "text/plain": [
       "array([ 4, 23, 29, 10])"
      ]
     },
     "execution_count": 94,
     "metadata": {},
     "output_type": "execute_result"
    }
   ],
   "source": [
    "arr[[1, 5, 7, 2], [0, 3, 1, 2]]"
   ]
  },
  {
   "cell_type": "markdown",
   "id": "72ef7c2a",
   "metadata": {},
   "source": [
    "## Transposing arrays & swapping axes"
   ]
  },
  {
   "cell_type": "code",
   "execution_count": 109,
   "id": "87f6ca10",
   "metadata": {},
   "outputs": [
    {
     "data": {
      "text/plain": [
       "array([[ 0,  1,  2,  3,  4],\n",
       "       [ 5,  6,  7,  8,  9],\n",
       "       [10, 11, 12, 13, 14]])"
      ]
     },
     "execution_count": 109,
     "metadata": {},
     "output_type": "execute_result"
    }
   ],
   "source": [
    "arr = np.arange(15).reshape(3,5)\n",
    "arr"
   ]
  },
  {
   "cell_type": "code",
   "execution_count": 113,
   "id": "8601ebe3",
   "metadata": {},
   "outputs": [
    {
     "data": {
      "text/plain": [
       "array([[ 0,  5, 10],\n",
       "       [ 1,  6, 11],\n",
       "       [ 2,  7, 12],\n",
       "       [ 3,  8, 13],\n",
       "       [ 4,  9, 14]])"
      ]
     },
     "execution_count": 113,
     "metadata": {},
     "output_type": "execute_result"
    }
   ],
   "source": [
    "arr.T # not inplace"
   ]
  },
  {
   "cell_type": "code",
   "execution_count": 114,
   "id": "054f7e08-ed14-4101-9a6a-dfc634f96e2d",
   "metadata": {},
   "outputs": [
    {
     "data": {
      "text/plain": [
       "array([[ 0,  1,  2,  3,  4],\n",
       "       [ 5,  6,  7,  8,  9],\n",
       "       [10, 11, 12, 13, 14]])"
      ]
     },
     "execution_count": 114,
     "metadata": {},
     "output_type": "execute_result"
    }
   ],
   "source": [
    "arr "
   ]
  },
  {
   "cell_type": "code",
   "execution_count": 115,
   "id": "d17aeb9d",
   "metadata": {},
   "outputs": [
    {
     "data": {
      "text/plain": [
       "array([[ 1.81578587,  0.61554645,  0.02643213],\n",
       "       [ 0.06212248, -0.44277317, -0.65404883],\n",
       "       [-0.3591492 , -0.28545245,  1.10228936],\n",
       "       [ 1.88969219, -0.89329646, -0.78162397],\n",
       "       [ 0.88569147, -0.86741562,  1.3446729 ],\n",
       "       [-0.52296404,  1.1153712 , -1.20118521]])"
      ]
     },
     "execution_count": 115,
     "metadata": {},
     "output_type": "execute_result"
    }
   ],
   "source": [
    "arr = np.random.randn(6, 3)\n",
    "arr"
   ]
  },
  {
   "cell_type": "code",
   "execution_count": 116,
   "id": "9555547e",
   "metadata": {},
   "outputs": [
    {
     "data": {
      "text/plain": [
       "array([[ 8.05880304, -1.84690259, -0.04640913],\n",
       "       [-1.84690259,  3.45086995, -1.81672146],\n",
       "       [-0.04640913, -1.81672146,  5.50544752]])"
      ]
     },
     "execution_count": 116,
     "metadata": {},
     "output_type": "execute_result"
    }
   ],
   "source": [
    "np.dot(arr.T, arr) # 3,6 x 6,3"
   ]
  },
  {
   "cell_type": "code",
   "execution_count": 99,
   "id": "0bb0a967",
   "metadata": {},
   "outputs": [
    {
     "data": {
      "text/plain": [
       "array([[3, 3, 3, 3],\n",
       "       [3, 3, 3, 3],\n",
       "       [3, 3, 3, 3],\n",
       "       [3, 3, 3, 3],\n",
       "       [3, 3, 3, 3]])"
      ]
     },
     "execution_count": 99,
     "metadata": {},
     "output_type": "execute_result"
    }
   ],
   "source": [
    "a = range(20)\n",
    "a = [3 for x in a]\n",
    "a = np.array(a).reshape(5,4)\n",
    "a"
   ]
  },
  {
   "cell_type": "code",
   "execution_count": 100,
   "id": "5569d62a",
   "metadata": {},
   "outputs": [
    {
     "data": {
      "text/plain": [
       "array([[36, 36, 36, 36, 36],\n",
       "       [36, 36, 36, 36, 36],\n",
       "       [36, 36, 36, 36, 36],\n",
       "       [36, 36, 36, 36, 36],\n",
       "       [36, 36, 36, 36, 36]])"
      ]
     },
     "execution_count": 100,
     "metadata": {},
     "output_type": "execute_result"
    }
   ],
   "source": [
    "b = np.dot(a, a.T)\n",
    "b"
   ]
  },
  {
   "cell_type": "code",
   "execution_count": 101,
   "id": "b876de16",
   "metadata": {},
   "outputs": [
    {
     "data": {
      "text/plain": [
       "array([[36, 36, 36, 36, 36],\n",
       "       [36, 36, 36, 36, 36],\n",
       "       [36, 36, 36, 36, 36],\n",
       "       [36, 36, 36, 36, 36],\n",
       "       [36, 36, 36, 36, 36]])"
      ]
     },
     "execution_count": 101,
     "metadata": {},
     "output_type": "execute_result"
    }
   ],
   "source": [
    "c = a @ a.T\n",
    "c"
   ]
  },
  {
   "cell_type": "code",
   "execution_count": null,
   "id": "d3a1d102",
   "metadata": {},
   "outputs": [],
   "source": []
  },
  {
   "cell_type": "code",
   "execution_count": 119,
   "id": "645f3afe-2b1b-409a-86d9-98227e12c0cd",
   "metadata": {},
   "outputs": [
    {
     "data": {
      "text/plain": [
       "array([[[ 0,  1,  2,  3],\n",
       "        [ 4,  5,  6,  7]],\n",
       "\n",
       "       [[ 8,  9, 10, 11],\n",
       "        [12, 13, 14, 15]]])"
      ]
     },
     "execution_count": 119,
     "metadata": {},
     "output_type": "execute_result"
    }
   ],
   "source": [
    "arr = np.arange(16).reshape((2, 2, 4))\n",
    "arr"
   ]
  },
  {
   "cell_type": "code",
   "execution_count": 123,
   "id": "2dfdad2d-202e-4f80-a9ec-09aca264746d",
   "metadata": {},
   "outputs": [
    {
     "data": {
      "text/plain": [
       "array([[[ 0,  1,  2,  3],\n",
       "        [ 8,  9, 10, 11]],\n",
       "\n",
       "       [[ 4,  5,  6,  7],\n",
       "        [12, 13, 14, 15]]])"
      ]
     },
     "execution_count": 123,
     "metadata": {},
     "output_type": "execute_result"
    }
   ],
   "source": [
    "arr.transpose((1, 0, 2))"
   ]
  },
  {
   "cell_type": "code",
   "execution_count": null,
   "id": "e62336b5-43f8-4891-8f6c-a8dfd21ca3c8",
   "metadata": {},
   "outputs": [],
   "source": []
  },
  {
   "cell_type": "code",
   "execution_count": null,
   "id": "0c9a4b5a-a8d9-40e0-9fed-4314d5bd8cdc",
   "metadata": {},
   "outputs": [],
   "source": []
  },
  {
   "cell_type": "code",
   "execution_count": 102,
   "id": "91ae47c0",
   "metadata": {},
   "outputs": [],
   "source": [
    "arr = np.arange(16).reshape((2, 2, 4))"
   ]
  },
  {
   "cell_type": "code",
   "execution_count": 103,
   "id": "2ba7d505",
   "metadata": {},
   "outputs": [
    {
     "data": {
      "text/plain": [
       "array([[[ 0,  1,  2,  3],\n",
       "        [ 4,  5,  6,  7]],\n",
       "\n",
       "       [[ 8,  9, 10, 11],\n",
       "        [12, 13, 14, 15]]])"
      ]
     },
     "execution_count": 103,
     "metadata": {},
     "output_type": "execute_result"
    }
   ],
   "source": [
    "arr"
   ]
  },
  {
   "cell_type": "code",
   "execution_count": 104,
   "id": "71e473da",
   "metadata": {},
   "outputs": [
    {
     "data": {
      "text/plain": [
       "array([[[ 0,  8],\n",
       "        [ 4, 12]],\n",
       "\n",
       "       [[ 1,  9],\n",
       "        [ 5, 13]],\n",
       "\n",
       "       [[ 2, 10],\n",
       "        [ 6, 14]],\n",
       "\n",
       "       [[ 3, 11],\n",
       "        [ 7, 15]]])"
      ]
     },
     "execution_count": 104,
     "metadata": {},
     "output_type": "execute_result"
    }
   ],
   "source": [
    "arr.T"
   ]
  },
  {
   "cell_type": "code",
   "execution_count": 105,
   "id": "d29ac8e6",
   "metadata": {},
   "outputs": [
    {
     "data": {
      "text/plain": [
       "array([[[ 0,  4],\n",
       "        [ 1,  5],\n",
       "        [ 2,  6],\n",
       "        [ 3,  7]],\n",
       "\n",
       "       [[ 8, 12],\n",
       "        [ 9, 13],\n",
       "        [10, 14],\n",
       "        [11, 15]]])"
      ]
     },
     "execution_count": 105,
     "metadata": {},
     "output_type": "execute_result"
    }
   ],
   "source": [
    "a = arr.swapaxes(1,2)\n",
    "a"
   ]
  },
  {
   "cell_type": "code",
   "execution_count": 106,
   "id": "49d2487c",
   "metadata": {},
   "outputs": [
    {
     "data": {
      "text/plain": [
       "array([[[ 0,  1,  2,  3],\n",
       "        [ 8,  9, 10, 11]],\n",
       "\n",
       "       [[ 4,  5,  6,  7],\n",
       "        [12, 13, 14, 15]]])"
      ]
     },
     "execution_count": 106,
     "metadata": {},
     "output_type": "execute_result"
    }
   ],
   "source": [
    "b = arr.swapaxes(1,0) # esto no lo entiendo!\n",
    "b"
   ]
  },
  {
   "cell_type": "code",
   "execution_count": null,
   "id": "d7f56b18",
   "metadata": {},
   "outputs": [],
   "source": []
  },
  {
   "cell_type": "markdown",
   "id": "1d061933-42f0-4698-b8b8-1a85ba94df98",
   "metadata": {},
   "source": [
    "## Universal functions: Fast Element-Wise Array Functions"
   ]
  },
  {
   "cell_type": "code",
   "execution_count": 125,
   "id": "4d42a0c7-1962-4ef9-bccb-b4514bd98ac9",
   "metadata": {},
   "outputs": [
    {
     "data": {
      "text/plain": [
       "array([0, 1, 2, 3, 4, 5, 6, 7, 8, 9])"
      ]
     },
     "execution_count": 125,
     "metadata": {},
     "output_type": "execute_result"
    }
   ],
   "source": [
    "arr = np.arange(10)\n",
    "arr"
   ]
  },
  {
   "cell_type": "code",
   "execution_count": 129,
   "id": "0cec30ef-ea1d-447e-adf0-b309025fd6d6",
   "metadata": {},
   "outputs": [
    {
     "data": {
      "text/plain": [
       "array([0.        , 1.        , 1.41421356, 1.73205081, 2.        ,\n",
       "       2.23606798, 2.44948974, 2.64575131, 2.82842712, 3.        ])"
      ]
     },
     "execution_count": 129,
     "metadata": {},
     "output_type": "execute_result"
    }
   ],
   "source": [
    "np.sqrt(arr)"
   ]
  },
  {
   "cell_type": "code",
   "execution_count": 130,
   "id": "ac4642c2-de50-4292-a1be-ffe246b19ec5",
   "metadata": {},
   "outputs": [
    {
     "data": {
      "text/plain": [
       "45"
      ]
     },
     "execution_count": 130,
     "metadata": {},
     "output_type": "execute_result"
    }
   ],
   "source": [
    "np.sum(arr)"
   ]
  },
  {
   "cell_type": "code",
   "execution_count": 131,
   "id": "58fff1eb-9fe5-485f-8b63-575ac589aeb9",
   "metadata": {},
   "outputs": [
    {
     "data": {
      "text/plain": [
       "array([1.00000000e+00, 2.71828183e+00, 7.38905610e+00, 2.00855369e+01,\n",
       "       5.45981500e+01, 1.48413159e+02, 4.03428793e+02, 1.09663316e+03,\n",
       "       2.98095799e+03, 8.10308393e+03])"
      ]
     },
     "execution_count": 131,
     "metadata": {},
     "output_type": "execute_result"
    }
   ],
   "source": [
    "np.exp(arr)"
   ]
  },
  {
   "cell_type": "code",
   "execution_count": 137,
   "id": "1be86cac-5876-4bf8-8ed5-ca20dbd50df8",
   "metadata": {},
   "outputs": [
    {
     "data": {
      "text/plain": [
       "array([ 1.40500477,  0.08869926, -0.29663349, -0.54552558, -0.24698511])"
      ]
     },
     "metadata": {},
     "output_type": "display_data"
    },
    {
     "data": {
      "text/plain": [
       "array([-0.71706502, -1.54459508, -1.03622708,  0.78936051,  1.13990757])"
      ]
     },
     "metadata": {},
     "output_type": "display_data"
    },
    {
     "data": {
      "text/plain": [
       "array([ 1.40500477,  0.08869926, -0.29663349,  0.78936051,  1.13990757])"
      ]
     },
     "execution_count": 137,
     "metadata": {},
     "output_type": "execute_result"
    }
   ],
   "source": [
    "x = np.random.randn(5)\n",
    "display(x)\n",
    "y = np.random.randn(5)\n",
    "display(y)\n",
    "np.maximum(x, y)"
   ]
  },
  {
   "cell_type": "code",
   "execution_count": 142,
   "id": "38b8b927-79a6-4b45-b703-ba33bad9cc3d",
   "metadata": {},
   "outputs": [
    {
     "name": "stdout",
     "output_type": "stream",
     "text": [
      "[-5.11387038 -6.70351665 -0.98301614]\n",
      "[-0.11387038 -0.70351665 -0.98301614]\n",
      "[-5. -6. -0.]\n"
     ]
    }
   ],
   "source": [
    "x = np.random.randn(3) * 4\n",
    "entera, decimal = np.modf(x)\n",
    "print(x, entera, decimal, sep=\"\\n\")"
   ]
  },
  {
   "cell_type": "code",
   "execution_count": 152,
   "id": "bc0620e0-22cf-4a85-9453-b5a7388a1af3",
   "metadata": {},
   "outputs": [
    {
     "name": "stdout",
     "output_type": "stream",
     "text": [
      "[0 1 2 3 4 5 6 7 8 9]\n",
      "[0 0 1 1 2 2 3 3 4 4]\n",
      "[0 1 0 1 0 1 0 1 0 1]\n"
     ]
    }
   ],
   "source": [
    "x = np.arange(10)\n",
    "div, rest = np.divmod(x, 2)\n",
    "print(x, a, b, sep=\"\\n\")"
   ]
  },
  {
   "cell_type": "code",
   "execution_count": 159,
   "id": "a86cedbb-72de-4d1c-af5d-971e61211aa4",
   "metadata": {},
   "outputs": [
    {
     "name": "stdout",
     "output_type": "stream",
     "text": [
      "[-3.2623  6.0915 -6.663 ]\n",
      "[0. 0. 0.]\n",
      "[-3.2623  6.0915 -6.663 ]\n",
      "[-2.2623  7.0915 -5.663 ]\n"
     ]
    }
   ],
   "source": [
    "arr = np.array([-3.2623, 6.0915, -6.663])   \n",
    "print(arr)\n",
    "out_arr = np.zeros_like(arr)\n",
    "print(out_arr)\n",
    "np.add(arr, 1, out=out_arr)\n",
    "print(arr, out_arr, sep=\"\\n\")"
   ]
  },
  {
   "cell_type": "code",
   "execution_count": 165,
   "id": "89c54d56-765d-44e5-a7cb-b5a0d853f62f",
   "metadata": {},
   "outputs": [
    {
     "name": "stderr",
     "output_type": "stream",
     "text": [
      "/tmp/ipykernel_6668/715331768.py:1: RuntimeWarning: invalid value encountered in log1p\n",
      "  np.log1p(arr)\n"
     ]
    },
    {
     "data": {
      "text/plain": [
       "array([       nan, 1.95889688,        nan])"
      ]
     },
     "execution_count": 165,
     "metadata": {},
     "output_type": "execute_result"
    }
   ],
   "source": [
    "np.log1p(arr)"
   ]
  },
  {
   "cell_type": "code",
   "execution_count": null,
   "id": "36440f5f-f542-4fc8-824e-20c644a40950",
   "metadata": {},
   "outputs": [],
   "source": []
  }
 ],
 "metadata": {
  "kernelspec": {
   "display_name": "Python 3 (ipykernel)",
   "language": "python",
   "name": "python3"
  },
  "language_info": {
   "codemirror_mode": {
    "name": "ipython",
    "version": 3
   },
   "file_extension": ".py",
   "mimetype": "text/x-python",
   "name": "python",
   "nbconvert_exporter": "python",
   "pygments_lexer": "ipython3",
   "version": "3.10.4"
  }
 },
 "nbformat": 4,
 "nbformat_minor": 5
}
