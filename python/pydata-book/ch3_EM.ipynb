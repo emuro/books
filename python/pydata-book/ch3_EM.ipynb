{
 "cells": [
  {
   "cell_type": "markdown",
   "id": "d8e4a487",
   "metadata": {},
   "source": [
    "# 3  Built-in Data Structures, Functions, and Files"
   ]
  },
  {
   "cell_type": "markdown",
   "id": "a08b7724",
   "metadata": {},
   "source": [
    "## Tuples"
   ]
  },
  {
   "cell_type": "code",
   "execution_count": null,
   "id": "6527f9fb",
   "metadata": {},
   "outputs": [],
   "source": [
    "tup = 1,2,3,4,5,6,7,8,9\n",
    "tup2 = (\"a\",\"b\")\n",
    "tup3 = tuple(\"caracoles\")\n",
    "print(tup)\n",
    "print(tup2)\n",
    "print(tup3)"
   ]
  },
  {
   "cell_type": "code",
   "execution_count": null,
   "id": "da844217",
   "metadata": {},
   "outputs": [],
   "source": []
  },
  {
   "cell_type": "code",
   "execution_count": null,
   "id": "1d93edff",
   "metadata": {},
   "outputs": [],
   "source": [
    "nested_tup = (1,2,3), (2,3,(\"a\",\"b\")), 1,[2,3] # more complex\n",
    "print(nested_tup)"
   ]
  },
  {
   "cell_type": "code",
   "execution_count": null,
   "id": "47c521bf",
   "metadata": {},
   "outputs": [],
   "source": []
  },
  {
   "cell_type": "code",
   "execution_count": null,
   "id": "bbce48a3",
   "metadata": {},
   "outputs": [],
   "source": [
    "# inmutable\n",
    "tup = tuple([9,8,7,6,5,4,3,2,1,0])\n",
    "tup2 = (\"a\",\"b\")\n",
    "print(id(tup))\n",
    "tup = tup + tup2\n",
    "print(tup)\n",
    "print(id(tup))"
   ]
  },
  {
   "cell_type": "code",
   "execution_count": null,
   "id": "b6fa8cd1",
   "metadata": {},
   "outputs": [],
   "source": []
  },
  {
   "cell_type": "code",
   "execution_count": null,
   "id": "20702a1b",
   "metadata": {},
   "outputs": [],
   "source": [
    "tup = tuple(\"asdfghjkl;qwertyu\")\n",
    "print(tup)\n",
    "print(tup[1] + str(len(tup))) "
   ]
  },
  {
   "cell_type": "code",
   "execution_count": null,
   "id": "8c580f66",
   "metadata": {},
   "outputs": [],
   "source": []
  },
  {
   "cell_type": "code",
   "execution_count": null,
   "id": "39010bc9",
   "metadata": {},
   "outputs": [],
   "source": [
    "t = (\"!£$%^&*()\") # set\n",
    "print(t)\n",
    "print(type(t))\n",
    "\n",
    "tup = tuple([9,8,7,6,5,4,3,2,1,0]) # tuple\n",
    "print(tuple)\n",
    "print(type(tuple))\n",
    "\n",
    "s = set(\"!£$%^&*()\") # set\n",
    "print(s)\n",
    "print(type(s))\n",
    "\n",
    "l = {1,2,3,4} # set\n",
    "print(l)\n",
    "print(type(l))"
   ]
  },
  {
   "cell_type": "code",
   "execution_count": null,
   "id": "df78bac1",
   "metadata": {},
   "outputs": [],
   "source": []
  },
  {
   "cell_type": "code",
   "execution_count": null,
   "id": "d0ca40c3",
   "metadata": {},
   "outputs": [],
   "source": [
    "tup = (1, [2,3], True, 2)\n",
    "print(tup[1])\n",
    "tup[1].pop()\n",
    "tup[1].append(6)\n",
    "print(tup)"
   ]
  },
  {
   "cell_type": "code",
   "execution_count": null,
   "id": "1116ff3f",
   "metadata": {},
   "outputs": [],
   "source": []
  },
  {
   "cell_type": "code",
   "execution_count": null,
   "id": "5a054705",
   "metadata": {},
   "outputs": [],
   "source": [
    "tup = (1, [2,3], True, 2)\n",
    "tup = tup*2\n",
    "print(tup)"
   ]
  },
  {
   "cell_type": "code",
   "execution_count": null,
   "id": "a67ecaa8",
   "metadata": {},
   "outputs": [],
   "source": []
  },
  {
   "cell_type": "code",
   "execution_count": null,
   "id": "3340ba8b",
   "metadata": {},
   "outputs": [],
   "source": [
    "tup = (1, [2,3], True, 2)\n",
    "a,b,c,d=tup\n",
    "print(a,c)"
   ]
  },
  {
   "cell_type": "code",
   "execution_count": null,
   "id": "2c1073f5",
   "metadata": {},
   "outputs": [],
   "source": []
  },
  {
   "cell_type": "code",
   "execution_count": null,
   "id": "9d4a84bd",
   "metadata": {},
   "outputs": [],
   "source": [
    "tup = (1, (2,3), True, 2)\n",
    "a,(b,c),d,e = tup\n",
    "print(c,e)"
   ]
  },
  {
   "cell_type": "code",
   "execution_count": null,
   "id": "45b9edd0",
   "metadata": {},
   "outputs": [],
   "source": []
  },
  {
   "cell_type": "code",
   "execution_count": null,
   "id": "3ab891f5",
   "metadata": {},
   "outputs": [],
   "source": [
    "a=1; b=2\n",
    "print(a,b)\n",
    "a,b = b,a\n",
    "print(a,b)"
   ]
  },
  {
   "cell_type": "code",
   "execution_count": null,
   "id": "56c4d3f2",
   "metadata": {},
   "outputs": [],
   "source": []
  },
  {
   "cell_type": "code",
   "execution_count": null,
   "id": "a6bd21d4",
   "metadata": {},
   "outputs": [],
   "source": [
    "tup=((1,2,3), (4,\"g\",6), (7,99,9))\n",
    "for a,b,c in tup:\n",
    "    print(f'a={a}, b={b}, c={c}')"
   ]
  },
  {
   "cell_type": "code",
   "execution_count": null,
   "id": "9955a7b6",
   "metadata": {},
   "outputs": [],
   "source": []
  },
  {
   "cell_type": "code",
   "execution_count": null,
   "id": "996dff77",
   "metadata": {},
   "outputs": [],
   "source": [
    "tup=((1,2,3), (4,\"g\",6), (7,99,9))\n",
    "a,*kk = tup\n",
    "print(a)\n",
    "print(*kk)"
   ]
  },
  {
   "cell_type": "code",
   "execution_count": null,
   "id": "413d6d69",
   "metadata": {},
   "outputs": [],
   "source": []
  },
  {
   "cell_type": "code",
   "execution_count": null,
   "id": "5bc215b4",
   "metadata": {},
   "outputs": [],
   "source": [
    "tup=((1,2,3), (4,\"g\",6), (7,99,9))\n",
    "a,*_,c = tup\n",
    "print(a)\n",
    "print(*_)\n",
    "print(c)"
   ]
  },
  {
   "cell_type": "code",
   "execution_count": null,
   "id": "2bc60796",
   "metadata": {},
   "outputs": [],
   "source": []
  },
  {
   "cell_type": "code",
   "execution_count": null,
   "id": "2877e81a",
   "metadata": {},
   "outputs": [],
   "source": [
    "tup = tuple(\"aagaghaajajjajaajajaa\")\n",
    "print(tup.count(\"h\"))"
   ]
  },
  {
   "cell_type": "code",
   "execution_count": null,
   "id": "6a91027b",
   "metadata": {},
   "outputs": [],
   "source": []
  },
  {
   "cell_type": "markdown",
   "id": "a7f35abd-25fe-40eb-ad1f-2dab464c2ca0",
   "metadata": {},
   "source": [
    "# Built-in Data Structures, Functions, "
   ]
  },
  {
   "cell_type": "code",
   "execution_count": null,
   "id": "ac36be4d-f8d2-48ce-9a3d-6f2d1452aa59",
   "metadata": {},
   "outputs": [],
   "source": [
    "# enumerate\n",
    "collection = ['foo', 'faa', 'fii']\n",
    "my_dict = dict()\n",
    "for i, value in enumerate(collection):\n",
    "    my_dict[value] = i\n",
    "print(my_dict)\n",
    "print(list(enumerate(collection)))"
   ]
  },
  {
   "cell_type": "code",
   "execution_count": null,
   "id": "549324c4-4e2d-45f1-a391-23d08b3cb963",
   "metadata": {},
   "outputs": [],
   "source": []
  },
  {
   "cell_type": "code",
   "execution_count": null,
   "id": "d0f7d944-454b-4ada-84a3-2ce6e970c550",
   "metadata": {},
   "outputs": [],
   "source": [
    "my_list = list(\"ÄÖLKJHGFDSWERTZUIOP\")\n",
    "print(sorted(my_list))\n",
    "print(my_list)\n",
    "my_tuple = tuple(\"RTZUIOPPOIZuiop\")\n",
    "print(sorted(my_tuple))"
   ]
  },
  {
   "cell_type": "code",
   "execution_count": null,
   "id": "78ce2332-7f61-424b-982b-6ccdeff5cffd",
   "metadata": {},
   "outputs": [],
   "source": []
  },
  {
   "cell_type": "code",
   "execution_count": null,
   "id": "7680d269-2b8a-4489-a62c-9b04a2319056",
   "metadata": {},
   "outputs": [],
   "source": [
    "aas = [\"M\", \"Q\"] \n",
    "codons = [\"atg\", \"ccg\"]\n",
    "genetic_code = list(zip(aas, codons))\n",
    "print(genetic_code)\n",
    "my_dict = dict(genetic_code)"
   ]
  },
  {
   "cell_type": "code",
   "execution_count": null,
   "id": "66cd6c6c-5a10-4512-84d7-2ed8de26bf0f",
   "metadata": {},
   "outputs": [],
   "source": []
  },
  {
   "cell_type": "code",
   "execution_count": null,
   "id": "d45fb43e-391e-45a5-bb64-5ade40d6ee8c",
   "metadata": {},
   "outputs": [],
   "source": [
    "seq1 = ['foo', 'faa', 'fii']\n",
    "seq2 = ['soo', 'saa', 'sii']\n",
    "seq3 = ['too', 'taa', 'tii']\n",
    "my_zipped = list(zip(seq1, seq2, seq3))\n",
    "for i, (a, b, c) in enumerate(my_zipped):\n",
    "    print(i, a, b, c)\n",
    "    print(f'{i:d} es un {a}={b}!={c}')"
   ]
  },
  {
   "cell_type": "code",
   "execution_count": null,
   "id": "3e4bfaf3-14f2-464c-b3c0-ab091a0b5a41",
   "metadata": {},
   "outputs": [],
   "source": [
    "r,a,t = zip(*my_zipped)\n",
    "print(r,a,t)\n",
    "r"
   ]
  },
  {
   "cell_type": "code",
   "execution_count": null,
   "id": "da2f4bf6-e2ec-4fe5-a67b-66e28db3598f",
   "metadata": {},
   "outputs": [],
   "source": [
    "z=reversed(seq1)\n",
    "print(list(z))\n",
    "print(list(seq1))\n"
   ]
  },
  {
   "cell_type": "code",
   "execution_count": null,
   "id": "47e4e0f9-533b-4649-85e6-30386f3e86ee",
   "metadata": {},
   "outputs": [],
   "source": []
  },
  {
   "cell_type": "markdown",
   "id": "7e2e5136",
   "metadata": {},
   "source": [
    "## dict: dictionaries"
   ]
  },
  {
   "cell_type": "code",
   "execution_count": null,
   "id": "74d65634",
   "metadata": {},
   "outputs": [],
   "source": [
    "my_dict = {'a': 'some value', 'b': [1, 2, 3, 4], 7: 'an z integer'}\n",
    "print(my_dict[\"b\"])\n",
    "print(my_dict[7])\n",
    "del my_dict[7]    # Important\n",
    "print(my_dict)\n",
    "sacado = my_dict.pop(\"a\")\n",
    "print(sacado)\n",
    "print(my_dict)"
   ]
  },
  {
   "cell_type": "code",
   "execution_count": null,
   "id": "233a049e-b56e-4b94-9903-6c79a08a3c1b",
   "metadata": {},
   "outputs": [],
   "source": []
  },
  {
   "cell_type": "code",
   "execution_count": null,
   "id": "de6b23b9",
   "metadata": {},
   "outputs": [],
   "source": [
    "print(my_dict[\"b\"]) \n",
    "\"b\" in my_dict  # bun not \"b\" in my_dict"
   ]
  },
  {
   "cell_type": "code",
   "execution_count": null,
   "id": "04ccf8ef",
   "metadata": {},
   "outputs": [],
   "source": [
    "my_dict = {'a': 'some value', 'b': [1, 2, 3, 4], 7: 'an z integer'}\n",
    "print(my_dict)\n",
    "print(my_dict.keys()) # suelta un objeto\n",
    "print(list(my_dict.keys())) # suelta un objeto"
   ]
  },
  {
   "cell_type": "code",
   "execution_count": null,
   "id": "afc4972c",
   "metadata": {},
   "outputs": [],
   "source": [
    "for val in my_dict.values():\n",
    "    print(val)"
   ]
  },
  {
   "cell_type": "code",
   "execution_count": null,
   "id": "0cce44c5",
   "metadata": {},
   "outputs": [],
   "source": []
  },
  {
   "cell_type": "code",
   "execution_count": null,
   "id": "6dbaf954",
   "metadata": {},
   "outputs": [],
   "source": [
    "l = my_dict[\"b\"]\n",
    "print(type(l))\n",
    "my_dict.update({\"b\": list(reversed(l))+[1969]}) # method update\n",
    "print(my_dict)"
   ]
  },
  {
   "cell_type": "code",
   "execution_count": null,
   "id": "8a7ccd0b",
   "metadata": {},
   "outputs": [],
   "source": []
  },
  {
   "cell_type": "code",
   "execution_count": null,
   "id": "1f5f498f",
   "metadata": {},
   "outputs": [],
   "source": [
    "ll=[1,2,3]\n",
    "aa=reversed(ll)\n",
    "print(list(aa))\n"
   ]
  },
  {
   "cell_type": "code",
   "execution_count": null,
   "id": "f783baef",
   "metadata": {},
   "outputs": [],
   "source": []
  },
  {
   "cell_type": "code",
   "execution_count": null,
   "id": "0bc20b56",
   "metadata": {},
   "outputs": [],
   "source": [
    "key_list = [1,2,3,4]\n",
    "val_list = list(\"abcd\")\n",
    "my_dict = {}\n",
    "for key, val in zip(key_list,val_list):\n",
    "    my_dict[key] = val\n",
    "print(my_dict)"
   ]
  },
  {
   "cell_type": "code",
   "execution_count": null,
   "id": "4fb93658",
   "metadata": {},
   "outputs": [],
   "source": [
    "my_dict = dict(zip(range(0,5), reversed(range(10,15))))\n",
    "print(my_dict)"
   ]
  },
  {
   "cell_type": "code",
   "execution_count": null,
   "id": "e5c55984",
   "metadata": {},
   "outputs": [],
   "source": []
  },
  {
   "cell_type": "code",
   "execution_count": null,
   "id": "9fdbbb0a",
   "metadata": {},
   "outputs": [],
   "source": [
    "words = ['apple', 'bat', 'bar', 'atom', 'book']\n",
    "by_letter = {}\n",
    "for w in words:\n",
    "    letter = w[0]\n",
    "    if letter not in by_letter:\n",
    "        by_letter[letter] = [w]\n",
    "    else:\n",
    "        by_letter[letter].append(w)\n",
    "print(by_letter)     \n",
    "        \n",
    "for l in by_letter:\n",
    "    by_letter[l].sort(reverse=1)\n",
    "print(by_letter)"
   ]
  },
  {
   "cell_type": "code",
   "execution_count": null,
   "id": "564572ee",
   "metadata": {},
   "outputs": [],
   "source": []
  },
  {
   "cell_type": "code",
   "execution_count": null,
   "id": "7a9b7b20",
   "metadata": {},
   "outputs": [],
   "source": [
    "words = ['apple', 'bat', 'bar', 'atom', 'book']\n",
    "by_letter2 = {}\n",
    "for w in words:\n",
    "    letter = w[0]\n",
    "    #print(by_letter2.setdefault(letter,[]))\n",
    "    by_letter2.setdefault(letter,[]).append(w)\n",
    "print(by_letter2)"
   ]
  },
  {
   "cell_type": "code",
   "execution_count": null,
   "id": "aa0ec247",
   "metadata": {},
   "outputs": [],
   "source": []
  },
  {
   "cell_type": "code",
   "execution_count": null,
   "id": "4dec1f15",
   "metadata": {},
   "outputs": [],
   "source": [
    "# hash \n",
    "print(hash('string'))\n",
    "for k in by_letter:\n",
    "    print(k, hash(k), type(hash(k)))"
   ]
  },
  {
   "cell_type": "code",
   "execution_count": null,
   "id": "a30d2778",
   "metadata": {},
   "outputs": [],
   "source": [
    "print(hash(tuple(\"asdfghjkl\"))) # works because tuple is unmutable"
   ]
  },
  {
   "cell_type": "code",
   "execution_count": null,
   "id": "42daef76",
   "metadata": {},
   "outputs": [],
   "source": [
    "print(hash(tuple(list(\"asdfghjkl\")))) #doesn't work is mutable"
   ]
  },
  {
   "cell_type": "code",
   "execution_count": null,
   "id": "b72c0910",
   "metadata": {},
   "outputs": [],
   "source": [
    "# complex solution the list can be converted to tuple (unmutable)\n",
    "my_dict = {tuple(list(\"asdfghjkl\")): \"kk\"} \n",
    "print(my_dict)"
   ]
  },
  {
   "cell_type": "code",
   "execution_count": null,
   "id": "70508171",
   "metadata": {},
   "outputs": [],
   "source": []
  },
  {
   "cell_type": "code",
   "execution_count": null,
   "id": "57a73693",
   "metadata": {},
   "outputs": [],
   "source": [
    "# sets\n",
    "my_set = {\"a\",\"b\",\"c\",\"d1\",\"e\",\"a\",\"a\"}\n",
    "my_set2 = {1, 2, 3}\n",
    "print(id(my_set2))\n",
    "my_set2.add(\"d1\")\n",
    "print(id(my_set2))\n",
    "print(my_set)\n",
    "my_set = my_set.union(my_set2) # a | b\n",
    "print(id(my_set))\n",
    "\n",
    "my_set.intersection(my_set2) # a & b"
   ]
  },
  {
   "cell_type": "code",
   "execution_count": null,
   "id": "0aaa4ad4",
   "metadata": {},
   "outputs": [],
   "source": []
  },
  {
   "cell_type": "code",
   "execution_count": null,
   "id": "3f2c9803",
   "metadata": {},
   "outputs": [],
   "source": [
    "a = {1, 2, 3, 4, 5}\n",
    "b = {3, 4, 5, 6, 7, 8}\n",
    "\n",
    "c = a.copy()\n",
    "print(id(c))\n",
    "c |= b\n",
    "print(id(c))\n",
    "c"
   ]
  },
  {
   "cell_type": "code",
   "execution_count": null,
   "id": "9f44fa03",
   "metadata": {},
   "outputs": [],
   "source": [
    "c = a.copy()\n",
    "c |= b\n",
    "c"
   ]
  },
  {
   "cell_type": "code",
   "execution_count": null,
   "id": "c0eef671",
   "metadata": {},
   "outputs": [],
   "source": []
  },
  {
   "cell_type": "code",
   "execution_count": null,
   "id": "8b7ee0e4",
   "metadata": {},
   "outputs": [],
   "source": [
    "my_data = [1,2,3]\n",
    "my_set = {tuple(my_data)}\n",
    "my_set\n",
    "for e in my_set:\n",
    "    print(e)"
   ]
  },
  {
   "cell_type": "code",
   "execution_count": null,
   "id": "fa055ea4",
   "metadata": {},
   "outputs": [],
   "source": [
    "{1,2,3} == {3,2,1}"
   ]
  },
  {
   "cell_type": "markdown",
   "id": "732c90ec",
   "metadata": {},
   "source": [
    "## List, Set, and Dict Comprehensions\n",
    "[expr for val in collection if condition]"
   ]
  },
  {
   "cell_type": "code",
   "execution_count": null,
   "id": "cb6dabaf",
   "metadata": {},
   "outputs": [],
   "source": [
    "strings = ['a', 'as', 'bat', 'car', 'dove', 'python']\n",
    "[x.upper() for x in strings if x.startswith(\"a\")]"
   ]
  },
  {
   "cell_type": "markdown",
   "id": "00ef0610",
   "metadata": {},
   "source": [
    "dict_comp = {key-expr : value-expr for value in collection\n",
    "             if condition}"
   ]
  },
  {
   "cell_type": "code",
   "execution_count": null,
   "id": "3f20657c",
   "metadata": {},
   "outputs": [],
   "source": [
    "dict_comp = {len(x) : x for x in strings if len(x)<5} # avoid python\n",
    "dict_comp"
   ]
  },
  {
   "cell_type": "markdown",
   "id": "b47c8ca5",
   "metadata": {},
   "source": [
    "sets  \n",
    "set_comp = {expr for value in collection if condition}\n"
   ]
  },
  {
   "cell_type": "code",
   "execution_count": null,
   "id": "684745c3",
   "metadata": {},
   "outputs": [],
   "source": [
    "set_comp = [x for x in strings if len(x)>1]\n",
    "set_comp"
   ]
  },
  {
   "cell_type": "markdown",
   "id": "5e33f9a1",
   "metadata": {},
   "source": [
    "#### Function: map()"
   ]
  },
  {
   "cell_type": "code",
   "execution_count": null,
   "id": "4b84d1f4",
   "metadata": {},
   "outputs": [],
   "source": [
    "def double_of(num):\n",
    "    return 2*num\n",
    "\n",
    "n_l = [1,2,3,4]\n",
    "double_n_l = list(map(double_of, n_l))\n",
    "print(double_n_l)\n",
    "print(type(double_n_l))"
   ]
  },
  {
   "cell_type": "markdown",
   "id": "cd19e0d4",
   "metadata": {},
   "source": [
    "Then,"
   ]
  },
  {
   "cell_type": "code",
   "execution_count": null,
   "id": "c789c559",
   "metadata": {},
   "outputs": [],
   "source": [
    "strings = ['a', 'as', 'bat', 'car', 'dove', 'python']\n",
    "length_of_strings = set(map(len, strings)) # using map\n",
    "print(length_of_strings)"
   ]
  },
  {
   "cell_type": "code",
   "execution_count": null,
   "id": "96655a93",
   "metadata": {},
   "outputs": [],
   "source": [
    "# position in list\n",
    "strings = ['a', 'as', 'bat', 'car', 'dove', 'python']\n",
    "loc_string = {val:i  for i, val in enumerate(strings)}\n",
    "print(loc_string)\n",
    "print(loc_string[\"bat\"])"
   ]
  },
  {
   "cell_type": "code",
   "execution_count": null,
   "id": "5795fc8f",
   "metadata": {},
   "outputs": [],
   "source": []
  },
  {
   "cell_type": "code",
   "execution_count": null,
   "id": "f91e48ab",
   "metadata": {},
   "outputs": [],
   "source": [
    "all_data = [['John', 'Michael', 'Mary', 'Steven', 'Emily'], ['Maria', 'Juan', 'Javier', 'Natalia', 'Pilar']]\n",
    "two_a_names = []\n",
    "print(all_data)\n",
    "for names in all_data:\n",
    "    for name in names:\n",
    "        if name.count('a')>=2:\n",
    "            two_a_names.append(name)\n",
    "\n",
    "print(two_a_names)"
   ]
  },
  {
   "cell_type": "code",
   "execution_count": null,
   "id": "017c7cb8",
   "metadata": {},
   "outputs": [],
   "source": [
    "names_of_interest = []\n",
    "for names in all_data:\n",
    "    aux_l = [name  for name in names if name.lower().count('n')>=1]\n",
    "    names_of_interest.extend(aux_l)\n",
    "names_of_interest"
   ]
  },
  {
   "cell_type": "code",
   "execution_count": null,
   "id": "72b8fcf1",
   "metadata": {},
   "outputs": [],
   "source": [
    "# otra manera\n",
    "names_of_interest = [name for names in all_data  for name in names   if name.lower().count('n')]\n",
    "names_of_interest"
   ]
  },
  {
   "cell_type": "code",
   "execution_count": null,
   "id": "711c38ec",
   "metadata": {},
   "outputs": [],
   "source": []
  },
  {
   "cell_type": "code",
   "execution_count": null,
   "id": "c87af744",
   "metadata": {},
   "outputs": [],
   "source": [
    "some_tuples = [(1, 2, 3), (4, 5, 6), (7, 8, 9, 9)]\n",
    "my_list = [x for tup in some_tuples  for x in tup]\n",
    "print(my_list)\n",
    "print(type(my_list))\n",
    "my_set = {x for tup in some_tuples  for x in tup}\n",
    "print(my_set)\n",
    "print(type(my_set))\n",
    "my_tup = tuple(x for tup in some_tuples  for x in tup)\n",
    "print(my_tup)\n",
    "print(type(my_tup))"
   ]
  },
  {
   "cell_type": "code",
   "execution_count": null,
   "id": "47c164b9",
   "metadata": {},
   "outputs": [],
   "source": []
  },
  {
   "cell_type": "code",
   "execution_count": null,
   "id": "4293dc7a",
   "metadata": {},
   "outputs": [],
   "source": [
    "#url = \"https://upload.wikimedia.org/wikipedia/commons/8/80/Loris_tardigradus_tardigradus_001.jpg\"\n",
    "#from IPython import display\n",
    "#display.Image(url)"
   ]
  },
  {
   "cell_type": "code",
   "execution_count": null,
   "id": "d0a5f867",
   "metadata": {},
   "outputs": [],
   "source": []
  },
  {
   "cell_type": "markdown",
   "id": "396df223",
   "metadata": {},
   "source": [
    "## Functions"
   ]
  },
  {
   "cell_type": "code",
   "execution_count": null,
   "id": "c94cf6ab",
   "metadata": {},
   "outputs": [],
   "source": [
    "def procedure(): # return None \n",
    "    pass\n",
    "\n",
    "out = procedure()\n",
    "print(out)"
   ]
  },
  {
   "cell_type": "code",
   "execution_count": null,
   "id": "5816e50c",
   "metadata": {},
   "outputs": [],
   "source": [
    "\n",
    "def func():\n",
    "    global a\n",
    "    a = []\n",
    "    for i in range(5):\n",
    "        a.append(i)\n",
    "    print(a)\n",
    "    \n",
    "func()\n",
    "print(a) # error!: a is local to func()\n"
   ]
  },
  {
   "cell_type": "code",
   "execution_count": null,
   "id": "b0162893",
   "metadata": {},
   "outputs": [],
   "source": []
  },
  {
   "cell_type": "code",
   "execution_count": 39,
   "id": "472afd90",
   "metadata": {},
   "outputs": [
    {
     "name": "stdout",
     "output_type": "stream",
     "text": [
      "1 2 3\n",
      "1 2 3\n"
     ]
    }
   ],
   "source": [
    "def f():\n",
    "    a, b, c = 1, 2, 3\n",
    "    return a, b, c\n",
    "\n",
    "d, e, g = f()\n",
    "print(d, e, g)\n",
    "\n",
    "(h, i, j)  = f()\n",
    "print(h, i, j)"
   ]
  },
  {
   "cell_type": "markdown",
   "id": "e6009f17",
   "metadata": {},
   "source": [
    "### A list of functions vs map"
   ]
  },
  {
   "cell_type": "code",
   "execution_count": 35,
   "id": "7611b193",
   "metadata": {},
   "outputs": [
    {
     "name": "stdout",
     "output_type": "stream",
     "text": [
      "['Alabama', 'Georgia', 'Georgia', 'Georgia', 'Florida', 'South   Carolina', 'West Virginia']\n"
     ]
    }
   ],
   "source": [
    "import re\n",
    "\n",
    "def remove_punctuation(value):\n",
    "    return re.sub('[!#?]', '', value)\n",
    "\n",
    "def clean_strings(strings, ops):\n",
    "    result = []\n",
    "    for value in strings:\n",
    "        for func in ops:\n",
    "            value = func(value)\n",
    "        result.append(value)\n",
    "    return result\n",
    "\n",
    "states = ['   Alabama ', 'Georgia!', 'Georgia', 'georgia', 'FlOrIda', 'south   carolina##', 'West virginia?']\n",
    "clean_ops = [str.strip, remove_punctuation, str.title]\n",
    "cleaned = clean_strings(states, clean_ops)\n",
    "print(cleaned)"
   ]
  },
  {
   "cell_type": "code",
   "execution_count": null,
   "id": "2b7c44be",
   "metadata": {},
   "outputs": [],
   "source": []
  },
  {
   "cell_type": "code",
   "execution_count": 36,
   "id": "fe41d36e",
   "metadata": {},
   "outputs": [
    {
     "data": {
      "text/plain": [
       "['Alabama',\n",
       " 'Georgia',\n",
       " 'Georgia',\n",
       " 'Georgia',\n",
       " 'Florida',\n",
       " 'South   Carolina',\n",
       " 'West Virginia']"
      ]
     },
     "execution_count": 36,
     "metadata": {},
     "output_type": "execute_result"
    }
   ],
   "source": [
    "import re\n",
    "\n",
    "def clean_end(input):\n",
    "    return re.sub(r\"[!#?]*\", \"\", input)\n",
    "\n",
    "states = ['   Alabama ', 'Georgia!', 'Georgia', 'georgia', 'FlOrIda', 'south   carolina##', 'West virginia?']\n",
    "ops = [clean_end, str.strip, str.title] \n",
    "\n",
    "cleaned_states = []\n",
    "for val in states:\n",
    "    for op in ops:\n",
    "        val = op(val)\n",
    "    cleaned_states.append(val)\n",
    "\n",
    "cleaned_states"
   ]
  },
  {
   "cell_type": "code",
   "execution_count": 31,
   "id": "da16bd13",
   "metadata": {},
   "outputs": [
    {
     "name": "stdout",
     "output_type": "stream",
     "text": [
      "   Alabama \n",
      "Georgia\n",
      "Georgia\n",
      "georgia\n",
      "FlOrIda\n",
      "south   carolina\n",
      "West virginia\n"
     ]
    }
   ],
   "source": [
    "import re\n",
    "\n",
    "def clean_end(input):\n",
    "    return re.sub(r\"[!#?]*\", \"\", input)\n",
    "\n",
    "states = ['   Alabama ', 'Georgia!', 'Georgia', 'georgia', 'FlOrIda', 'south   carolina##', 'West virginia?']\n",
    "ops = [clean_end, str.strip, str.title] \n",
    "\n",
    "for x in map(clean_end, states):\n",
    "    print(x)"
   ]
  },
  {
   "cell_type": "code",
   "execution_count": null,
   "id": "7fdc9033",
   "metadata": {},
   "outputs": [],
   "source": []
  }
 ],
 "metadata": {
  "kernelspec": {
   "display_name": "Python 3 (ipykernel)",
   "language": "python",
   "name": "python3"
  },
  "language_info": {
   "codemirror_mode": {
    "name": "ipython",
    "version": 3
   },
   "file_extension": ".py",
   "mimetype": "text/x-python",
   "name": "python",
   "nbconvert_exporter": "python",
   "pygments_lexer": "ipython3",
   "version": "3.7.6"
  }
 },
 "nbformat": 4,
 "nbformat_minor": 5
}
