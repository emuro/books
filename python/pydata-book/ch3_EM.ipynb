{
 "cells": [
  {
   "cell_type": "markdown",
   "id": "d8e4a487",
   "metadata": {},
   "source": [
    "# 3  Built-in Data Structures, Functions, and Files"
   ]
  },
  {
   "cell_type": "markdown",
   "id": "a08b7724",
   "metadata": {},
   "source": [
    "## Tuples"
   ]
  },
  {
   "cell_type": "code",
   "execution_count": 4,
   "id": "6527f9fb",
   "metadata": {},
   "outputs": [
    {
     "name": "stdout",
     "output_type": "stream",
     "text": [
      "(1, 2, 3, 4, 5, 6, 7, 8, 9)\n",
      "('a', 'b')\n",
      "('c', 'a', 'r', 'a', 'c', 'o', 'l', 'e', 's')\n"
     ]
    }
   ],
   "source": [
    "tup = 1,2,3,4,5,6,7,8,9\n",
    "tup2 = (\"a\",\"b\")\n",
    "tup3 = tuple(\"caracoles\")\n",
    "print(tup)\n",
    "print(tup2)\n",
    "print(tup3)"
   ]
  },
  {
   "cell_type": "code",
   "execution_count": null,
   "id": "da844217",
   "metadata": {},
   "outputs": [],
   "source": []
  },
  {
   "cell_type": "code",
   "execution_count": 6,
   "id": "1d93edff",
   "metadata": {},
   "outputs": [
    {
     "name": "stdout",
     "output_type": "stream",
     "text": [
      "((1, 2, 3), (2, 3, ('a', 'b')), 1, [2, 3])\n"
     ]
    }
   ],
   "source": [
    "nested_tup = (1,2,3), (2,3,(\"a\",\"b\")), 1,[2,3] # more complex\n",
    "print(nested_tup)"
   ]
  },
  {
   "cell_type": "code",
   "execution_count": null,
   "id": "47c521bf",
   "metadata": {},
   "outputs": [],
   "source": []
  },
  {
   "cell_type": "code",
   "execution_count": 7,
   "id": "bbce48a3",
   "metadata": {},
   "outputs": [
    {
     "name": "stdout",
     "output_type": "stream",
     "text": [
      "140154853250880\n",
      "(9, 8, 7, 6, 5, 4, 3, 2, 1, 0, 'a', 'b')\n",
      "140155000539312\n"
     ]
    }
   ],
   "source": [
    "# inmutable\n",
    "tup = tuple([9,8,7,6,5,4,3,2,1,0])\n",
    "tup2 = (\"a\",\"b\")\n",
    "print(id(tup))\n",
    "tup = tup + tup2\n",
    "print(tup)\n",
    "print(id(tup))"
   ]
  },
  {
   "cell_type": "code",
   "execution_count": null,
   "id": "b6fa8cd1",
   "metadata": {},
   "outputs": [],
   "source": []
  },
  {
   "cell_type": "code",
   "execution_count": 9,
   "id": "20702a1b",
   "metadata": {},
   "outputs": [
    {
     "name": "stdout",
     "output_type": "stream",
     "text": [
      "('a', 's', 'd', 'f', 'g', 'h', 'j', 'k', 'l', ';', 'q', 'w', 'e', 'r', 't', 'y', 'u')\n",
      "s17\n"
     ]
    }
   ],
   "source": [
    "tup = tuple(\"asdfghjkl;qwertyu\")\n",
    "print(tup)\n",
    "print(tup[1] + str(len(tup))) "
   ]
  },
  {
   "cell_type": "code",
   "execution_count": null,
   "id": "8c580f66",
   "metadata": {},
   "outputs": [],
   "source": []
  },
  {
   "cell_type": "code",
   "execution_count": 17,
   "id": "39010bc9",
   "metadata": {},
   "outputs": [
    {
     "name": "stdout",
     "output_type": "stream",
     "text": [
      "!£$%^&*()\n",
      "<class 'str'>\n",
      "<class 'tuple'>\n",
      "<class 'type'>\n",
      "{'£', '!', '^', '&', '(', ')', '$', '*', '%'}\n",
      "<class 'set'>\n",
      "{1, 2, 3, 4}\n",
      "<class 'set'>\n"
     ]
    }
   ],
   "source": [
    "t = (\"!£$%^&*()\") # set\n",
    "print(t)\n",
    "print(type(t))\n",
    "\n",
    "tup = tuple([9,8,7,6,5,4,3,2,1,0]) # tuple\n",
    "print(tuple)\n",
    "print(type(tuple))\n",
    "\n",
    "s = set(\"!£$%^&*()\") # set\n",
    "print(s)\n",
    "print(type(s))\n",
    "\n",
    "l = {1,2,3,4} # set\n",
    "print(l)\n",
    "print(type(l))"
   ]
  },
  {
   "cell_type": "code",
   "execution_count": null,
   "id": "df78bac1",
   "metadata": {},
   "outputs": [],
   "source": []
  },
  {
   "cell_type": "code",
   "execution_count": 18,
   "id": "d0ca40c3",
   "metadata": {},
   "outputs": [
    {
     "name": "stdout",
     "output_type": "stream",
     "text": [
      "[2, 3]\n",
      "(1, [2, 6], True, 2)\n"
     ]
    }
   ],
   "source": [
    "tup = (1, [2,3], True, 2)\n",
    "print(tup[1])\n",
    "tup[1].pop()\n",
    "tup[1].append(6)\n",
    "print(tup)"
   ]
  },
  {
   "cell_type": "code",
   "execution_count": null,
   "id": "1116ff3f",
   "metadata": {},
   "outputs": [],
   "source": []
  },
  {
   "cell_type": "code",
   "execution_count": 19,
   "id": "5a054705",
   "metadata": {},
   "outputs": [
    {
     "name": "stdout",
     "output_type": "stream",
     "text": [
      "(1, [2, 3], True, 2, 1, [2, 3], True, 2)\n"
     ]
    }
   ],
   "source": [
    "tup = (1, [2,3], True, 2)\n",
    "tup = tup*2\n",
    "print(tup)"
   ]
  },
  {
   "cell_type": "code",
   "execution_count": null,
   "id": "a67ecaa8",
   "metadata": {},
   "outputs": [],
   "source": []
  },
  {
   "cell_type": "code",
   "execution_count": 20,
   "id": "3340ba8b",
   "metadata": {},
   "outputs": [
    {
     "name": "stdout",
     "output_type": "stream",
     "text": [
      "1 True\n"
     ]
    }
   ],
   "source": [
    "tup = (1, [2,3], True, 2)\n",
    "a,b,c,d=tup\n",
    "print(a,c)"
   ]
  },
  {
   "cell_type": "code",
   "execution_count": null,
   "id": "2c1073f5",
   "metadata": {},
   "outputs": [],
   "source": []
  },
  {
   "cell_type": "code",
   "execution_count": 21,
   "id": "9d4a84bd",
   "metadata": {},
   "outputs": [
    {
     "name": "stdout",
     "output_type": "stream",
     "text": [
      "3 2\n"
     ]
    }
   ],
   "source": [
    "tup = (1, (2,3), True, 2)\n",
    "a,(b,c),d,e = tup\n",
    "print(c,e)"
   ]
  },
  {
   "cell_type": "code",
   "execution_count": null,
   "id": "45b9edd0",
   "metadata": {},
   "outputs": [],
   "source": []
  },
  {
   "cell_type": "code",
   "execution_count": 23,
   "id": "3ab891f5",
   "metadata": {},
   "outputs": [
    {
     "name": "stdout",
     "output_type": "stream",
     "text": [
      "1 2\n",
      "2 1\n"
     ]
    }
   ],
   "source": [
    "a=1; b=2\n",
    "print(a,b)\n",
    "a,b = b,a\n",
    "print(a,b)"
   ]
  },
  {
   "cell_type": "code",
   "execution_count": null,
   "id": "56c4d3f2",
   "metadata": {},
   "outputs": [],
   "source": []
  },
  {
   "cell_type": "code",
   "execution_count": 24,
   "id": "a6bd21d4",
   "metadata": {},
   "outputs": [
    {
     "name": "stdout",
     "output_type": "stream",
     "text": [
      "a=1, b=2, c=3\n",
      "a=4, b=g, c=6\n",
      "a=7, b=99, c=9\n"
     ]
    }
   ],
   "source": [
    "tup=((1,2,3), (4,\"g\",6), (7,99,9))\n",
    "for a,b,c in tup:\n",
    "    print(f'a={a}, b={b}, c={c}')"
   ]
  },
  {
   "cell_type": "code",
   "execution_count": null,
   "id": "9955a7b6",
   "metadata": {},
   "outputs": [],
   "source": []
  },
  {
   "cell_type": "code",
   "execution_count": 25,
   "id": "996dff77",
   "metadata": {},
   "outputs": [
    {
     "name": "stdout",
     "output_type": "stream",
     "text": [
      "(1, 2, 3)\n",
      "(4, 'g', 6) (7, 99, 9)\n"
     ]
    }
   ],
   "source": [
    "tup=((1,2,3), (4,\"g\",6), (7,99,9))\n",
    "a,*kk = tup\n",
    "print(a)\n",
    "print(*kk)"
   ]
  },
  {
   "cell_type": "code",
   "execution_count": null,
   "id": "413d6d69",
   "metadata": {},
   "outputs": [],
   "source": []
  },
  {
   "cell_type": "code",
   "execution_count": 26,
   "id": "5bc215b4",
   "metadata": {},
   "outputs": [
    {
     "name": "stdout",
     "output_type": "stream",
     "text": [
      "(1, 2, 3)\n",
      "(4, 'g', 6)\n",
      "(7, 99, 9)\n"
     ]
    }
   ],
   "source": [
    "tup=((1,2,3), (4,\"g\",6), (7,99,9))\n",
    "a,*_,c = tup\n",
    "print(a)\n",
    "print(*_)\n",
    "print(c)"
   ]
  },
  {
   "cell_type": "code",
   "execution_count": null,
   "id": "2bc60796",
   "metadata": {},
   "outputs": [],
   "source": []
  },
  {
   "cell_type": "code",
   "execution_count": 27,
   "id": "2877e81a",
   "metadata": {},
   "outputs": [
    {
     "name": "stdout",
     "output_type": "stream",
     "text": [
      "1\n"
     ]
    }
   ],
   "source": [
    "tup = tuple(\"aagaghaajajjajaajajaa\")\n",
    "print(tup.count(\"h\"))"
   ]
  },
  {
   "cell_type": "code",
   "execution_count": null,
   "id": "6a91027b",
   "metadata": {},
   "outputs": [],
   "source": []
  },
  {
   "cell_type": "markdown",
   "id": "a7f35abd-25fe-40eb-ad1f-2dab464c2ca0",
   "metadata": {},
   "source": [
    "# Built-in Data Structures, Functions, "
   ]
  },
  {
   "cell_type": "code",
   "execution_count": 14,
   "id": "ac36be4d-f8d2-48ce-9a3d-6f2d1452aa59",
   "metadata": {},
   "outputs": [
    {
     "name": "stdout",
     "output_type": "stream",
     "text": [
      "{'foo': 0, 'faa': 1, 'fii': 2}\n",
      "[(0, 'foo'), (1, 'faa'), (2, 'fii')]\n"
     ]
    }
   ],
   "source": [
    "# enumerate\n",
    "collection = ['foo', 'faa', 'fii']\n",
    "my_dict = dict()\n",
    "for i, value in enumerate(collection):\n",
    "    my_dict[value] = i\n",
    "print(my_dict)\n",
    "print(list(enumerate(collection)))"
   ]
  },
  {
   "cell_type": "code",
   "execution_count": 7,
   "id": "549324c4-4e2d-45f1-a391-23d08b3cb963",
   "metadata": {},
   "outputs": [],
   "source": []
  },
  {
   "cell_type": "code",
   "execution_count": 20,
   "id": "d0f7d944-454b-4ada-84a3-2ce6e970c550",
   "metadata": {},
   "outputs": [
    {
     "name": "stdout",
     "output_type": "stream",
     "text": [
      "['D', 'E', 'F', 'G', 'H', 'I', 'J', 'K', 'L', 'O', 'P', 'R', 'S', 'T', 'U', 'W', 'Z', 'Ä', 'Ö']\n",
      "['Ä', 'Ö', 'L', 'K', 'J', 'H', 'G', 'F', 'D', 'S', 'W', 'E', 'R', 'T', 'Z', 'U', 'I', 'O', 'P']\n",
      "['I', 'I', 'O', 'O', 'P', 'P', 'R', 'T', 'U', 'Z', 'Z', 'i', 'o', 'p', 'u']\n"
     ]
    }
   ],
   "source": [
    "my_list = list(\"ÄÖLKJHGFDSWERTZUIOP\")\n",
    "print(sorted(my_list))\n",
    "print(my_list)\n",
    "my_tuple = tuple(\"RTZUIOPPOIZuiop\")\n",
    "print(sorted(my_tuple))"
   ]
  },
  {
   "cell_type": "code",
   "execution_count": null,
   "id": "78ce2332-7f61-424b-982b-6ccdeff5cffd",
   "metadata": {},
   "outputs": [],
   "source": []
  },
  {
   "cell_type": "code",
   "execution_count": 26,
   "id": "7680d269-2b8a-4489-a62c-9b04a2319056",
   "metadata": {},
   "outputs": [
    {
     "name": "stdout",
     "output_type": "stream",
     "text": [
      "[('M', 'atg'), ('Q', 'ccg')]\n"
     ]
    }
   ],
   "source": [
    "aas = [\"M\", \"Q\"] \n",
    "codons = [\"atg\", \"ccg\"]\n",
    "genetic_code = list(zip(aas, codons))\n",
    "print(genetic_code)\n",
    "my_dict = dict(genetic_code)"
   ]
  },
  {
   "cell_type": "code",
   "execution_count": null,
   "id": "66cd6c6c-5a10-4512-84d7-2ed8de26bf0f",
   "metadata": {},
   "outputs": [],
   "source": []
  },
  {
   "cell_type": "code",
   "execution_count": 41,
   "id": "d45fb43e-391e-45a5-bb64-5ade40d6ee8c",
   "metadata": {},
   "outputs": [
    {
     "name": "stdout",
     "output_type": "stream",
     "text": [
      "0 foo soo too\n",
      "0 es un foo=soo!=too\n",
      "1 faa saa taa\n",
      "1 es un faa=saa!=taa\n",
      "2 fii sii tii\n",
      "2 es un fii=sii!=tii\n"
     ]
    }
   ],
   "source": [
    "seq1 = ['foo', 'faa', 'fii']\n",
    "seq2 = ['soo', 'saa', 'sii']\n",
    "seq3 = ['too', 'taa', 'tii']\n",
    "my_zipped = list(zip(seq1, seq2, seq3))\n",
    "for i, (a, b, c) in enumerate(my_zipped):\n",
    "    print(i, a, b, c)\n",
    "    print(f'{i:d} es un {a}={b}!={c}')"
   ]
  },
  {
   "cell_type": "code",
   "execution_count": 43,
   "id": "3e4bfaf3-14f2-464c-b3c0-ab091a0b5a41",
   "metadata": {},
   "outputs": [
    {
     "name": "stdout",
     "output_type": "stream",
     "text": [
      "('foo', 'faa', 'fii') ('soo', 'saa', 'sii') ('too', 'taa', 'tii')\n"
     ]
    },
    {
     "data": {
      "text/plain": [
       "('foo', 'faa', 'fii')"
      ]
     },
     "execution_count": 43,
     "metadata": {},
     "output_type": "execute_result"
    }
   ],
   "source": [
    "r,a,t = zip(*my_zipped)\n",
    "print(r,a,t)\n",
    "r"
   ]
  },
  {
   "cell_type": "code",
   "execution_count": 52,
   "id": "da2f4bf6-e2ec-4fe5-a67b-66e28db3598f",
   "metadata": {},
   "outputs": [
    {
     "name": "stdout",
     "output_type": "stream",
     "text": [
      "['fii', 'faa', 'foo']\n",
      "['foo', 'faa', 'fii']\n"
     ]
    }
   ],
   "source": [
    "z=reversed(seq1)\n",
    "print(list(z))\n",
    "print(list(seq1))\n"
   ]
  },
  {
   "cell_type": "code",
   "execution_count": null,
   "id": "47e4e0f9-533b-4649-85e6-30386f3e86ee",
   "metadata": {},
   "outputs": [],
   "source": []
  },
  {
   "cell_type": "markdown",
   "id": "7e2e5136",
   "metadata": {},
   "source": [
    "## dict: dictionaries"
   ]
  },
  {
   "cell_type": "code",
   "execution_count": 35,
   "id": "74d65634",
   "metadata": {},
   "outputs": [
    {
     "name": "stdout",
     "output_type": "stream",
     "text": [
      "[1, 2, 3, 4]\n",
      "an z integer\n",
      "{'a': 'some value', 'b': [1, 2, 3, 4]}\n",
      "some value\n",
      "{'b': [1, 2, 3, 4]}\n"
     ]
    }
   ],
   "source": [
    "my_dict = {'a': 'some value', 'b': [1, 2, 3, 4], 7: 'an z integer'}\n",
    "print(my_dict[\"b\"])\n",
    "print(my_dict[7])\n",
    "del my_dict[7]    # Important\n",
    "print(my_dict)\n",
    "sacado = my_dict.pop(\"a\")\n",
    "print(sacado)\n",
    "print(my_dict)"
   ]
  },
  {
   "cell_type": "code",
   "execution_count": null,
   "id": "233a049e-b56e-4b94-9903-6c79a08a3c1b",
   "metadata": {},
   "outputs": [],
   "source": []
  },
  {
   "cell_type": "code",
   "execution_count": 40,
   "id": "de6b23b9",
   "metadata": {},
   "outputs": [
    {
     "name": "stdout",
     "output_type": "stream",
     "text": [
      "[1, 2, 3, 4]\n"
     ]
    },
    {
     "data": {
      "text/plain": [
       "True"
      ]
     },
     "execution_count": 40,
     "metadata": {},
     "output_type": "execute_result"
    }
   ],
   "source": [
    "print(my_dict[\"b\"]) \n",
    "\"b\" in my_dict  # bun not \"b\" in my_dict"
   ]
  },
  {
   "cell_type": "code",
   "execution_count": 82,
   "id": "04ccf8ef",
   "metadata": {},
   "outputs": [
    {
     "name": "stdout",
     "output_type": "stream",
     "text": [
      "{'a': 'some value', 'b': [1, 2, 3, 4], 7: 'an z integer'}\n",
      "dict_keys(['a', 'b', 7])\n",
      "['a', 'b', 7]\n"
     ]
    }
   ],
   "source": [
    "my_dict = {'a': 'some value', 'b': [1, 2, 3, 4], 7: 'an z integer'}\n",
    "print(my_dict)\n",
    "print(my_dict.keys()) # suelta un objeto\n",
    "print(list(my_dict.keys())) # suelta un objeto"
   ]
  },
  {
   "cell_type": "code",
   "execution_count": 83,
   "id": "afc4972c",
   "metadata": {},
   "outputs": [
    {
     "name": "stdout",
     "output_type": "stream",
     "text": [
      "some value\n",
      "[1, 2, 3, 4]\n",
      "an z integer\n"
     ]
    }
   ],
   "source": [
    "for val in my_dict.values():\n",
    "    print(val)"
   ]
  },
  {
   "cell_type": "code",
   "execution_count": null,
   "id": "0cce44c5",
   "metadata": {},
   "outputs": [],
   "source": []
  },
  {
   "cell_type": "code",
   "execution_count": 95,
   "id": "6dbaf954",
   "metadata": {},
   "outputs": [
    {
     "name": "stdout",
     "output_type": "stream",
     "text": [
      "<class 'list'>\n",
      "{'a': 'some value', 'b': [1969, 1, 2, 3, 4, 1969, 1969], 7: 'an z integer'}\n"
     ]
    }
   ],
   "source": [
    "l = my_dict[\"b\"]\n",
    "print(type(l))\n",
    "my_dict.update({\"b\": list(reversed(l))+[1969]}) # method update\n",
    "print(my_dict)"
   ]
  },
  {
   "cell_type": "code",
   "execution_count": null,
   "id": "8a7ccd0b",
   "metadata": {},
   "outputs": [],
   "source": []
  },
  {
   "cell_type": "code",
   "execution_count": 96,
   "id": "1f5f498f",
   "metadata": {},
   "outputs": [
    {
     "name": "stdout",
     "output_type": "stream",
     "text": [
      "[3, 2, 1]\n"
     ]
    }
   ],
   "source": [
    "ll=[1,2,3]\n",
    "aa=reversed(ll)\n",
    "print(list(aa))\n"
   ]
  },
  {
   "cell_type": "code",
   "execution_count": null,
   "id": "f783baef",
   "metadata": {},
   "outputs": [],
   "source": []
  },
  {
   "cell_type": "code",
   "execution_count": 105,
   "id": "0bc20b56",
   "metadata": {},
   "outputs": [
    {
     "name": "stdout",
     "output_type": "stream",
     "text": [
      "{1: 'a', 2: 'b', 3: 'c', 4: 'd'}\n"
     ]
    }
   ],
   "source": [
    "key_list = [1,2,3,4]\n",
    "val_list = list(\"abcd\")\n",
    "my_dict = {}\n",
    "for key, val in zip(key_list,val_list):\n",
    "    my_dict[key] = val\n",
    "print(my_dict)"
   ]
  },
  {
   "cell_type": "code",
   "execution_count": 113,
   "id": "4fb93658",
   "metadata": {},
   "outputs": [
    {
     "name": "stdout",
     "output_type": "stream",
     "text": [
      "{0: 14, 1: 13, 2: 12, 3: 11, 4: 10}\n"
     ]
    }
   ],
   "source": [
    "my_dict = dict(zip(range(0,5), reversed(range(10,15))))\n",
    "print(my_dict)"
   ]
  },
  {
   "cell_type": "code",
   "execution_count": null,
   "id": "e5c55984",
   "metadata": {},
   "outputs": [],
   "source": []
  },
  {
   "cell_type": "code",
   "execution_count": 125,
   "id": "9fdbbb0a",
   "metadata": {},
   "outputs": [
    {
     "name": "stdout",
     "output_type": "stream",
     "text": [
      "{'a': ['apple', 'atom'], 'b': ['bat', 'bar', 'book']}\n",
      "{'a': ['atom', 'apple'], 'b': ['book', 'bat', 'bar']}\n"
     ]
    }
   ],
   "source": [
    "words = ['apple', 'bat', 'bar', 'atom', 'book']\n",
    "by_letter = {}\n",
    "for w in words:\n",
    "    letter = w[0]\n",
    "    if letter not in by_letter:\n",
    "        by_letter[letter] = [w]\n",
    "    else:\n",
    "        by_letter[letter].append(w)\n",
    "print(by_letter)     \n",
    "        \n",
    "for l in by_letter:\n",
    "    by_letter[l].sort(reverse=1)\n",
    "print(by_letter)"
   ]
  },
  {
   "cell_type": "code",
   "execution_count": null,
   "id": "564572ee",
   "metadata": {},
   "outputs": [],
   "source": []
  },
  {
   "cell_type": "code",
   "execution_count": 132,
   "id": "7a9b7b20",
   "metadata": {},
   "outputs": [
    {
     "name": "stdout",
     "output_type": "stream",
     "text": [
      "{'a': ['apple', 'atom'], 'b': ['bat', 'bar', 'book']}\n"
     ]
    }
   ],
   "source": [
    "words = ['apple', 'bat', 'bar', 'atom', 'book']\n",
    "by_letter2 = {}\n",
    "for w in words:\n",
    "    letter = w[0]\n",
    "    #print(by_letter2.setdefault(letter,[]))\n",
    "    by_letter2.setdefault(letter,[]).append(w)\n",
    "print(by_letter2)"
   ]
  },
  {
   "cell_type": "code",
   "execution_count": null,
   "id": "aa0ec247",
   "metadata": {},
   "outputs": [],
   "source": []
  },
  {
   "cell_type": "code",
   "execution_count": 140,
   "id": "4dec1f15",
   "metadata": {},
   "outputs": [
    {
     "name": "stdout",
     "output_type": "stream",
     "text": [
      "1284844447853245637\n",
      "a 7647121933555783561 <class 'int'>\n",
      "b 3600924027374306290 <class 'int'>\n"
     ]
    }
   ],
   "source": [
    "# hash \n",
    "print(hash('string'))\n",
    "for k in by_letter:\n",
    "    print(k, hash(k), type(hash(k)))"
   ]
  },
  {
   "cell_type": "code",
   "execution_count": 141,
   "id": "a30d2778",
   "metadata": {},
   "outputs": [
    {
     "name": "stdout",
     "output_type": "stream",
     "text": [
      "-5121956377759863446\n"
     ]
    }
   ],
   "source": [
    "print(hash(tuple(\"asdfghjkl\"))) # works because tuple is unmutable"
   ]
  },
  {
   "cell_type": "code",
   "execution_count": 145,
   "id": "42daef76",
   "metadata": {},
   "outputs": [
    {
     "name": "stdout",
     "output_type": "stream",
     "text": [
      "-5121956377759863446\n"
     ]
    }
   ],
   "source": [
    "print(hash(tuple(list(\"asdfghjkl\")))) #doesn't work is mutable"
   ]
  },
  {
   "cell_type": "code",
   "execution_count": 151,
   "id": "b72c0910",
   "metadata": {},
   "outputs": [
    {
     "name": "stdout",
     "output_type": "stream",
     "text": [
      "{('a', 's', 'd', 'f', 'g', 'h', 'j', 'k', 'l'): 'kk'}\n"
     ]
    }
   ],
   "source": [
    "# complex solution the list can be converted to tuple (unmutable)\n",
    "my_dict = {tuple(list(\"asdfghjkl\")): \"kk\"} \n",
    "print(my_dict)"
   ]
  },
  {
   "cell_type": "code",
   "execution_count": null,
   "id": "70508171",
   "metadata": {},
   "outputs": [],
   "source": []
  },
  {
   "cell_type": "code",
   "execution_count": 172,
   "id": "57a73693",
   "metadata": {},
   "outputs": [
    {
     "name": "stdout",
     "output_type": "stream",
     "text": [
      "140154852233504\n",
      "140154852233504\n",
      "{'e', 'a', 'c', 'b', 'd1'}\n",
      "140154852234624\n"
     ]
    },
    {
     "data": {
      "text/plain": [
       "{1, 2, 3, 'd1'}"
      ]
     },
     "execution_count": 172,
     "metadata": {},
     "output_type": "execute_result"
    }
   ],
   "source": [
    "# sets\n",
    "my_set = {\"a\",\"b\",\"c\",\"d1\",\"e\",\"a\",\"a\"}\n",
    "my_set2 = {1, 2, 3}\n",
    "print(id(my_set2))\n",
    "my_set2.add(\"d1\")\n",
    "print(id(my_set2))\n",
    "print(my_set)\n",
    "my_set = my_set.union(my_set2) # a | b\n",
    "print(id(my_set))\n",
    "\n",
    "my_set.intersection(my_set2) # a & b"
   ]
  },
  {
   "cell_type": "code",
   "execution_count": null,
   "id": "0aaa4ad4",
   "metadata": {},
   "outputs": [],
   "source": []
  },
  {
   "cell_type": "code",
   "execution_count": 176,
   "id": "3f2c9803",
   "metadata": {},
   "outputs": [
    {
     "name": "stdout",
     "output_type": "stream",
     "text": [
      "140154852235520\n",
      "140154852235520\n"
     ]
    },
    {
     "data": {
      "text/plain": [
       "{1, 2, 3, 4, 5, 6, 7, 8}"
      ]
     },
     "execution_count": 176,
     "metadata": {},
     "output_type": "execute_result"
    }
   ],
   "source": [
    "a = {1, 2, 3, 4, 5}\n",
    "b = {3, 4, 5, 6, 7, 8}\n",
    "\n",
    "c = a.copy()\n",
    "print(id(c))\n",
    "c |= b\n",
    "print(id(c))\n",
    "c"
   ]
  },
  {
   "cell_type": "code",
   "execution_count": 178,
   "id": "9f44fa03",
   "metadata": {},
   "outputs": [
    {
     "data": {
      "text/plain": [
       "{1, 2, 3, 4, 5, 6, 7, 8}"
      ]
     },
     "execution_count": 178,
     "metadata": {},
     "output_type": "execute_result"
    }
   ],
   "source": [
    "c = a.copy()\n",
    "c |= b\n",
    "c"
   ]
  },
  {
   "cell_type": "code",
   "execution_count": null,
   "id": "c0eef671",
   "metadata": {},
   "outputs": [],
   "source": []
  },
  {
   "cell_type": "code",
   "execution_count": 183,
   "id": "8b7ee0e4",
   "metadata": {},
   "outputs": [
    {
     "name": "stdout",
     "output_type": "stream",
     "text": [
      "(1, 2, 3)\n"
     ]
    }
   ],
   "source": [
    "my_data = [1,2,3]\n",
    "my_set = {tuple(my_data)}\n",
    "my_set\n",
    "for e in my_set:\n",
    "    print(e)"
   ]
  },
  {
   "cell_type": "code",
   "execution_count": 185,
   "id": "fa055ea4",
   "metadata": {},
   "outputs": [
    {
     "data": {
      "text/plain": [
       "True"
      ]
     },
     "execution_count": 185,
     "metadata": {},
     "output_type": "execute_result"
    }
   ],
   "source": [
    "{1,2,3} == {3,2,1}"
   ]
  },
  {
   "cell_type": "markdown",
   "id": "732c90ec",
   "metadata": {},
   "source": [
    "## List, Set, and Dict Comprehensions\n",
    "[expr for val in collection if condition]"
   ]
  },
  {
   "cell_type": "code",
   "execution_count": 3,
   "id": "cb6dabaf",
   "metadata": {},
   "outputs": [
    {
     "data": {
      "text/plain": [
       "['A', 'AS']"
      ]
     },
     "execution_count": 3,
     "metadata": {},
     "output_type": "execute_result"
    }
   ],
   "source": [
    "strings = ['a', 'as', 'bat', 'car', 'dove', 'python']\n",
    "[x.upper() for x in strings if x.startswith(\"a\")]"
   ]
  },
  {
   "cell_type": "markdown",
   "id": "00ef0610",
   "metadata": {},
   "source": [
    "dict_comp = {key-expr : value-expr for value in collection\n",
    "             if condition}"
   ]
  },
  {
   "cell_type": "code",
   "execution_count": 6,
   "id": "3f20657c",
   "metadata": {},
   "outputs": [
    {
     "data": {
      "text/plain": [
       "{1: 'a', 2: 'as', 3: 'car', 4: 'dove'}"
      ]
     },
     "execution_count": 6,
     "metadata": {},
     "output_type": "execute_result"
    }
   ],
   "source": [
    "dict_comp = {len(x) : x for x in strings if len(x)<5} # avoid python\n",
    "dict_comp"
   ]
  },
  {
   "cell_type": "code",
   "execution_count": null,
   "id": "33779c78",
   "metadata": {},
   "outputs": [],
   "source": [
    "#sets\n",
    "set_comp = {expr for value in collection if condition}\n"
   ]
  }
 ],
 "metadata": {
  "kernelspec": {
   "display_name": "Python 3 (ipykernel)",
   "language": "python",
   "name": "python3"
  },
  "language_info": {
   "codemirror_mode": {
    "name": "ipython",
    "version": 3
   },
   "file_extension": ".py",
   "mimetype": "text/x-python",
   "name": "python",
   "nbconvert_exporter": "python",
   "pygments_lexer": "ipython3",
   "version": "3.8.10"
  }
 },
 "nbformat": 4,
 "nbformat_minor": 5
}
