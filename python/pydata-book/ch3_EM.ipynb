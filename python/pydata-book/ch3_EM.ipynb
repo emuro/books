{
 "cells": [
  {
   "cell_type": "markdown",
   "id": "a7f35abd-25fe-40eb-ad1f-2dab464c2ca0",
   "metadata": {},
   "source": [
    "# Built-in Data Structures, Functions, "
   ]
  },
  {
   "cell_type": "code",
   "execution_count": 14,
   "id": "ac36be4d-f8d2-48ce-9a3d-6f2d1452aa59",
   "metadata": {},
   "outputs": [
    {
     "name": "stdout",
     "output_type": "stream",
     "text": [
      "{'foo': 0, 'faa': 1, 'fii': 2}\n",
      "[(0, 'foo'), (1, 'faa'), (2, 'fii')]\n"
     ]
    }
   ],
   "source": [
    "# enumerate\n",
    "collection = ['foo', 'faa', 'fii']\n",
    "my_dict = dict()\n",
    "for i, value in enumerate(collection):\n",
    "    my_dict[value] = i\n",
    "print(my_dict)\n",
    "print(list(enumerate(collection)))"
   ]
  },
  {
   "cell_type": "code",
   "execution_count": 7,
   "id": "549324c4-4e2d-45f1-a391-23d08b3cb963",
   "metadata": {},
   "outputs": [],
   "source": []
  },
  {
   "cell_type": "code",
   "execution_count": 20,
   "id": "d0f7d944-454b-4ada-84a3-2ce6e970c550",
   "metadata": {},
   "outputs": [
    {
     "name": "stdout",
     "output_type": "stream",
     "text": [
      "['D', 'E', 'F', 'G', 'H', 'I', 'J', 'K', 'L', 'O', 'P', 'R', 'S', 'T', 'U', 'W', 'Z', 'Ä', 'Ö']\n",
      "['Ä', 'Ö', 'L', 'K', 'J', 'H', 'G', 'F', 'D', 'S', 'W', 'E', 'R', 'T', 'Z', 'U', 'I', 'O', 'P']\n",
      "['I', 'I', 'O', 'O', 'P', 'P', 'R', 'T', 'U', 'Z', 'Z', 'i', 'o', 'p', 'u']\n"
     ]
    }
   ],
   "source": [
    "my_list = list(\"ÄÖLKJHGFDSWERTZUIOP\")\n",
    "print(sorted(my_list))\n",
    "print(my_list)\n",
    "my_tuple = tuple(\"RTZUIOPPOIZuiop\")\n",
    "print(sorted(my_tuple))"
   ]
  },
  {
   "cell_type": "code",
   "execution_count": null,
   "id": "78ce2332-7f61-424b-982b-6ccdeff5cffd",
   "metadata": {},
   "outputs": [],
   "source": []
  },
  {
   "cell_type": "code",
   "execution_count": 26,
   "id": "7680d269-2b8a-4489-a62c-9b04a2319056",
   "metadata": {},
   "outputs": [
    {
     "name": "stdout",
     "output_type": "stream",
     "text": [
      "[('M', 'atg'), ('Q', 'ccg')]\n"
     ]
    }
   ],
   "source": [
    "aas = [\"M\", \"Q\"] \n",
    "codons = [\"atg\", \"ccg\"]\n",
    "genetic_code = list(zip(aas, codons))\n",
    "print(genetic_code)\n",
    "my_dict = dict(genetic_code)"
   ]
  },
  {
   "cell_type": "code",
   "execution_count": null,
   "id": "66cd6c6c-5a10-4512-84d7-2ed8de26bf0f",
   "metadata": {},
   "outputs": [],
   "source": []
  },
  {
   "cell_type": "code",
   "execution_count": 41,
   "id": "d45fb43e-391e-45a5-bb64-5ade40d6ee8c",
   "metadata": {},
   "outputs": [
    {
     "name": "stdout",
     "output_type": "stream",
     "text": [
      "0 foo soo too\n",
      "0 es un foo=soo!=too\n",
      "1 faa saa taa\n",
      "1 es un faa=saa!=taa\n",
      "2 fii sii tii\n",
      "2 es un fii=sii!=tii\n"
     ]
    }
   ],
   "source": [
    "seq1 = ['foo', 'faa', 'fii']\n",
    "seq2 = ['soo', 'saa', 'sii']\n",
    "seq3 = ['too', 'taa', 'tii']\n",
    "my_zipped = list(zip(seq1, seq2, seq3))\n",
    "for i, (a, b, c) in enumerate(my_zipped):\n",
    "    print(i, a, b, c)\n",
    "    print(f'{i:d} es un {a}={b}!={c}')"
   ]
  },
  {
   "cell_type": "code",
   "execution_count": 43,
   "id": "3e4bfaf3-14f2-464c-b3c0-ab091a0b5a41",
   "metadata": {},
   "outputs": [
    {
     "name": "stdout",
     "output_type": "stream",
     "text": [
      "('foo', 'faa', 'fii') ('soo', 'saa', 'sii') ('too', 'taa', 'tii')\n"
     ]
    },
    {
     "data": {
      "text/plain": [
       "('foo', 'faa', 'fii')"
      ]
     },
     "execution_count": 43,
     "metadata": {},
     "output_type": "execute_result"
    }
   ],
   "source": [
    "r,a,t = zip(*my_zipped)\n",
    "print(r,a,t)\n",
    "r"
   ]
  },
  {
   "cell_type": "code",
   "execution_count": 52,
   "id": "da2f4bf6-e2ec-4fe5-a67b-66e28db3598f",
   "metadata": {},
   "outputs": [
    {
     "name": "stdout",
     "output_type": "stream",
     "text": [
      "['fii', 'faa', 'foo']\n",
      "['foo', 'faa', 'fii']\n"
     ]
    }
   ],
   "source": [
    "z=reversed(seq1)\n",
    "print(list(z))\n",
    "print(list(seq1))\n"
   ]
  },
  {
   "cell_type": "code",
   "execution_count": null,
   "id": "47e4e0f9-533b-4649-85e6-30386f3e86ee",
   "metadata": {},
   "outputs": [],
   "source": []
  },
  {
   "cell_type": "code",
   "execution_count": 58,
   "id": "1b617d4a-83aa-4af9-848c-874d5cd35ffc",
   "metadata": {},
   "outputs": [
    {
     "name": "stdout",
     "output_type": "stream",
     "text": [
      "[1, 2, 3, 4]\n",
      "an z integer\n",
      "{'a': 'some value', 'b': [1, 2, 3, 4]}\n",
      "some value\n",
      "{'b': [1, 2, 3, 4]}\n"
     ]
    }
   ],
   "source": [
    "my_dict = {'a': 'some value', 'b': [1, 2, 3, 4], 7: 'an z integer'}\n",
    "print(my_dict[\"b\"])\n",
    "print(my_dict[7])\n",
    "del my_dict[7]\n",
    "print(my_dict)\n",
    "sacado = my_dict.pop(\"a\")\n",
    "print(sacado)\n",
    "print(my_dict)"
   ]
  },
  {
   "cell_type": "code",
   "execution_count": null,
   "id": "233a049e-b56e-4b94-9903-6c79a08a3c1b",
   "metadata": {},
   "outputs": [],
   "source": []
  }
 ],
 "metadata": {
  "kernelspec": {
   "display_name": "Python 3 (ipykernel)",
   "language": "python",
   "name": "python3"
  },
  "language_info": {
   "codemirror_mode": {
    "name": "ipython",
    "version": 3
   },
   "file_extension": ".py",
   "mimetype": "text/x-python",
   "name": "python",
   "nbconvert_exporter": "python",
   "pygments_lexer": "ipython3",
   "version": "3.7.6"
  }
 },
 "nbformat": 4,
 "nbformat_minor": 5
}
