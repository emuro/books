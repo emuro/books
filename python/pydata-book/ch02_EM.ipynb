{
 "cells": [
  {
   "cell_type": "markdown",
   "id": "fc27093c",
   "metadata": {},
   "source": [
    "# EM on chapter 2 of the book \n",
    "---"
   ]
  },
  {
   "cell_type": "code",
   "execution_count": 17,
   "id": "e1abe04b",
   "metadata": {},
   "outputs": [],
   "source": [
    "import numpy.random as np "
   ]
  },
  {
   "cell_type": "markdown",
   "id": "a53f2016",
   "metadata": {},
   "source": [
    "### EM normal distribution"
   ]
  },
  {
   "cell_type": "code",
   "execution_count": 21,
   "id": "500861e3",
   "metadata": {},
   "outputs": [
    {
     "data": {
      "text/plain": [
       "{0: 1529,\n",
       " 1: 1625,\n",
       " 2: 2059,\n",
       " 3: 1474,\n",
       " 4: 1768,\n",
       " 5: 1216,\n",
       " 6: 1626,\n",
       " 7: 1477,\n",
       " 8: 1482,\n",
       " 9: 1680,\n",
       " 10: 1664,\n",
       " 11: 2247,\n",
       " 12: 1571,\n",
       " 13: 2021,\n",
       " 14: 1428,\n",
       " 15: 1687,\n",
       " 16: 1292,\n",
       " 17: 1931,\n",
       " 18: 1006,\n",
       " 19: 909}"
      ]
     },
     "execution_count": 21,
     "metadata": {},
     "output_type": "execute_result"
    }
   ],
   "source": [
    "mu = 3*550\n",
    "sigma = 300 # 0.45 varia 1 alredor de mu\n",
    "data = {i: int(mu+sigma*np.randn()) for i in range(20)}\n",
    "data"
   ]
  },
  {
   "cell_type": "markdown",
   "id": "8ba12af6",
   "metadata": {},
   "source": [
    "### jupyter book example (with variations)"
   ]
  },
  {
   "cell_type": "code",
   "execution_count": 61,
   "id": "f6f9f870",
   "metadata": {},
   "outputs": [
    {
     "data": {
      "text/plain": [
       "'/home/emuro/git/github/books/python/pydata-book'"
      ]
     },
     "execution_count": 61,
     "metadata": {},
     "output_type": "execute_result"
    }
   ],
   "source": [
    "path=%pwd\n",
    "path"
   ]
  },
  {
   "cell_type": "code",
   "execution_count": 62,
   "id": "9c31661d",
   "metadata": {},
   "outputs": [
    {
     "name": "stdout",
     "output_type": "stream",
     "text": [
      "./datasets/bitly_usagov\n",
      "└── example.txt\n",
      "\n",
      "0 directories, 1 file\n"
     ]
    }
   ],
   "source": [
    "%%bash\n",
    "find . -iname \"*usagov*\" -exec tree {} \\;"
   ]
  },
  {
   "cell_type": "code",
   "execution_count": 64,
   "id": "1c8f0b51",
   "metadata": {},
   "outputs": [
    {
     "name": "stdout",
     "output_type": "stream",
     "text": [
      "{ \"a\": \"Mozilla\\/5.0 (Windows NT 6.1; WOW64) AppleWebKit\\/535.11 (KHTML, like Gecko) Chrome\\/17.0.963.78 Safari\\/535.11\", \"c\": \"US\", \"nk\": 1, \"tz\": \"America\\/New_York\", \"gr\": \"MA\", \"g\": \"A6qOVH\", \"h\": \"wfLQtf\", \"l\": \"orofrog\", \"al\": \"en-US,en;q=0.8\", \"hh\": \"1.usa.gov\", \"r\": \"http:\\/\\/www.facebook.com\\/l\\/7AQEFzjSi\\/1.usa.gov\\/wfLQtf\", \"u\": \"http:\\/\\/www.ncbi.nlm.nih.gov\\/pubmed\\/22415991\", \"t\": 1331923247, \"hc\": 1331822918, \"cy\": \"Danvers\", \"ll\": [ 42.576698, -70.954903 ] }\n",
      "\n"
     ]
    }
   ],
   "source": [
    "file_h = open('/home/emuro/git/github/books/python/pydata-book/datasets/bitly_usagov/example.txt')\n",
    "line = file_h.readline()\n",
    "print(line)\n",
    "file_h.close()"
   ]
  },
  {
   "cell_type": "code",
   "execution_count": 65,
   "id": "049804ef",
   "metadata": {},
   "outputs": [],
   "source": [
    "# Now with json\n",
    "import json\n",
    "file = '/home/emuro/git/github/books/python/pydata-book/datasets/bitly_usagov/example.txt'\n",
    "records = [json.loads(line) for line in open(file)]"
   ]
  },
  {
   "cell_type": "code",
   "execution_count": 75,
   "id": "d536d0d4",
   "metadata": {},
   "outputs": [
    {
     "name": "stdout",
     "output_type": "stream",
     "text": [
      "{'a': 'Mozilla/5.0 (Windows NT 6.1; WOW64) AppleWebKit/535.11 (KHTML, like Gecko) Chrome/17.0.963.78 Safari/535.11', 'c': 'US', 'nk': 1, 'tz': 'America/New_York', 'gr': 'MA', 'g': 'A6qOVH', 'h': 'wfLQtf', 'l': 'orofrog', 'al': 'en-US,en;q=0.8', 'hh': '1.usa.gov', 'r': 'http://www.facebook.com/l/7AQEFzjSi/1.usa.gov/wfLQtf', 'u': 'http://www.ncbi.nlm.nih.gov/pubmed/22415991', 't': 1331923247, 'hc': 1331822918, 'cy': 'Danvers', 'll': [42.576698, -70.954903]}\n",
      "America/New_York\n"
     ]
    },
    {
     "data": {
      "text/plain": [
       "'America/New_York'"
      ]
     },
     "execution_count": 75,
     "metadata": {},
     "output_type": "execute_result"
    }
   ],
   "source": [
    "print(records[0])\n",
    "print(records[0]['tz'])\n",
    "location = records[0]['tz']\n",
    "location # TAB fill-in"
   ]
  },
  {
   "cell_type": "code",
   "execution_count": null,
   "id": "85a9b4e6",
   "metadata": {},
   "outputs": [],
   "source": []
  },
  {
   "cell_type": "code",
   "execution_count": 76,
   "id": "35b75500",
   "metadata": {},
   "outputs": [
    {
     "data": {
      "text/plain": [
       "1"
      ]
     },
     "execution_count": 76,
     "metadata": {},
     "output_type": "execute_result"
    }
   ],
   "source": [
    "b = [1,2,3]\n",
    "b.count(2) # tag fill-in"
   ]
  },
  {
   "cell_type": "code",
   "execution_count": 82,
   "id": "821547a1",
   "metadata": {},
   "outputs": [
    {
     "data": {
      "text/plain": [
       "datetime.datetime(2022, 3, 10, 15, 38, 2, 365745)"
      ]
     },
     "execution_count": 82,
     "metadata": {},
     "output_type": "execute_result"
    }
   ],
   "source": [
    "import datetime \n",
    "datetime.datetime.now()"
   ]
  },
  {
   "cell_type": "code",
   "execution_count": null,
   "id": "d1847ad0",
   "metadata": {},
   "outputs": [],
   "source": []
  },
  {
   "cell_type": "markdown",
   "id": "31bd6d10",
   "metadata": {},
   "source": [
    "## variables (binding)"
   ]
  },
  {
   "cell_type": "code",
   "execution_count": 3,
   "id": "8053a872",
   "metadata": {},
   "outputs": [
    {
     "name": "stdout",
     "output_type": "stream",
     "text": [
      "[1, 2, 3, 4]\n"
     ]
    }
   ],
   "source": [
    "# assigner\n",
    "a = [1,2,3]\n",
    "b = a # it is not a cp: a and b points to the same\n",
    "a.append(4) \n",
    "print(b)"
   ]
  },
  {
   "cell_type": "code",
   "execution_count": null,
   "id": "50a15a4f",
   "metadata": {},
   "outputs": [],
   "source": []
  },
  {
   "cell_type": "markdown",
   "id": "0546856a",
   "metadata": {},
   "source": [
    "## It is relatively complicated (functions old by reference, value)"
   ]
  },
  {
   "cell_type": "code",
   "execution_count": 21,
   "id": "859d538c",
   "metadata": {},
   "outputs": [
    {
     "name": "stdout",
     "output_type": "stream",
     "text": [
      "False\n",
      "five inside the function: 5\n",
      "five outside the function: 5\n"
     ]
    }
   ],
   "source": [
    "# function arguments (do not bind)\n",
    "def addition_plusOne(a, b):\n",
    "    \"\"\"\n",
    "    arithmetic addition\n",
    "    \"\"\"\n",
    "    a = a + 1\n",
    "    print(five==a)\n",
    "    print(\"five inside the function:\", five)\n",
    "    return a+b\n",
    "\n",
    "five = 5; six = 6\n",
    "addition_plusOne(five, six)\n",
    "print(\"five outside the function:\", five)"
   ]
  },
  {
   "cell_type": "code",
   "execution_count": 35,
   "id": "c961091a",
   "metadata": {},
   "outputs": [
    {
     "name": "stdout",
     "output_type": "stream",
     "text": [
      "True\n",
      "inside f() 1: my_list [3, 2, 1, 0]\n",
      "inside f() 2: some_list [3, 2, 1, 0, 1, 1]\n",
      "inside f() 3: my_list [3, 2, 1, 0, 1, 1]\n",
      "inside f() 3: some_list [3, 1]\n",
      "outside f() [3, 2, 1, 0, 1, 1]\n",
      "0\n"
     ]
    }
   ],
   "source": [
    "def append_to_list(some_list, element):\n",
    "    print(some_list == my_list)\n",
    "    my_list.append(element)\n",
    "    print(\"inside f() 1: my_list\", my_list)\n",
    "    \n",
    "    element = element + 1\n",
    "    some_list.append(element)\n",
    "    some_list.append(element)\n",
    "    print(\"inside f() 2: some_list\", some_list)\n",
    "    \n",
    "    some_list = [3]\n",
    "    some_list.append(element)\n",
    "    print(\"inside f() 3: my_list\", my_list)\n",
    "    print(\"inside f() 3: some_list\", some_list)\n",
    "\n",
    "my_list = [3,2,1]\n",
    "my_element = 0\n",
    "append_to_list(my_list, my_element) # binding! my_list will be modified!\n",
    "print(\"outside f()\", my_list)\n",
    "print(my_element)"
   ]
  },
  {
   "cell_type": "code",
   "execution_count": null,
   "id": "ccd7ff73",
   "metadata": {},
   "outputs": [],
   "source": []
  },
  {
   "cell_type": "markdown",
   "id": "aa96ab5e",
   "metadata": {},
   "source": [
    "## variables as object references"
   ]
  },
  {
   "cell_type": "code",
   "execution_count": 42,
   "id": "e255eb60",
   "metadata": {},
   "outputs": [
    {
     "name": "stdout",
     "output_type": "stream",
     "text": [
      "5 <class 'int'>\n",
      "5 <class 'str'>\n"
     ]
    }
   ],
   "source": [
    "# variables binding to different types\n",
    "a = 5\n",
    "print(a, type(a))\n",
    "\n",
    "a = \"5\"\n",
    "print(a, type(a))"
   ]
  },
  {
   "cell_type": "code",
   "execution_count": null,
   "id": "61e4532f",
   "metadata": {},
   "outputs": [],
   "source": []
  },
  {
   "cell_type": "code",
   "execution_count": 44,
   "id": "686f9130",
   "metadata": {},
   "outputs": [
    {
     "name": "stdout",
     "output_type": "stream",
     "text": [
      "5 <class 'int'>\n",
      "10 <class 'int'>\n"
     ]
    }
   ],
   "source": [
    "a = 5\n",
    "print(a, type(a))\n",
    "\n",
    "b = \"5\" \n",
    "c = a + int(b)\n",
    "print(c, type(c))"
   ]
  },
  {
   "cell_type": "code",
   "execution_count": null,
   "id": "22459c2d",
   "metadata": {},
   "outputs": [],
   "source": []
  },
  {
   "cell_type": "code",
   "execution_count": 47,
   "id": "913d4786",
   "metadata": {},
   "outputs": [
    {
     "name": "stdout",
     "output_type": "stream",
     "text": [
      "5 <class 'int'>\n",
      "55 <class 'str'>\n"
     ]
    }
   ],
   "source": [
    "a = 5\n",
    "print(a, type(a))\n",
    "\n",
    "b = \"5\" \n",
    "c = str(a) + b\n",
    "print(c, type(c))"
   ]
  },
  {
   "cell_type": "code",
   "execution_count": null,
   "id": "e22e41d8",
   "metadata": {},
   "outputs": [],
   "source": []
  },
  {
   "cell_type": "code",
   "execution_count": 51,
   "id": "9e610054",
   "metadata": {},
   "outputs": [
    {
     "name": "stdout",
     "output_type": "stream",
     "text": [
      "False\n",
      "False\n",
      "True\n"
     ]
    }
   ],
   "source": [
    "# isinstance\n",
    "a = 5.5\n",
    "print(isinstance(a, int))\n",
    "print(isinstance(a, (int, str)))\n",
    "print(isinstance(a, (int, str, float)))"
   ]
  },
  {
   "cell_type": "code",
   "execution_count": null,
   "id": "7425f9e5",
   "metadata": {},
   "outputs": [],
   "source": []
  },
  {
   "cell_type": "code",
   "execution_count": 62,
   "id": "8475973c",
   "metadata": {},
   "outputs": [
    {
     "data": {
      "text/plain": [
       "<function str.split(sep=None, maxsplit=-1)>"
      ]
     },
     "execution_count": 62,
     "metadata": {},
     "output_type": "execute_result"
    }
   ],
   "source": [
    "## getattr\n",
    "a = \"5\"\n",
    "\n",
    "getattr(a, 'split')\n",
    "#print(getattr(a, 'split'))\n"
   ]
  },
  {
   "cell_type": "code",
   "execution_count": null,
   "id": "a9c93bdf",
   "metadata": {},
   "outputs": [],
   "source": []
  },
  {
   "cell_type": "markdown",
   "id": "88192b7b",
   "metadata": {},
   "source": [
    "## Iterable iter()"
   ]
  },
  {
   "cell_type": "code",
   "execution_count": 70,
   "id": "d4eac40f",
   "metadata": {},
   "outputs": [
    {
     "name": "stdout",
     "output_type": "stream",
     "text": [
      "It's iterable!\n",
      "It's iterable!\n",
      "It's iterable!\n",
      "It's not iterable!\n"
     ]
    }
   ],
   "source": [
    "def is_iterable(query_obj):\n",
    "    try:\n",
    "        iter(query_obj)\n",
    "        print(\"It's iterable!\")\n",
    "    except:\n",
    "        print(\"It's not iterable!\")\n",
    "\n",
    "is_iterable([2,3,5,7,8])\n",
    "is_iterable(\"potato\")\n",
    "is_iterable(\"p\")\n",
    "is_iterable(5)\n"
   ]
  },
  {
   "cell_type": "code",
   "execution_count": null,
   "id": "fef8205f",
   "metadata": {},
   "outputs": [],
   "source": []
  },
  {
   "cell_type": "markdown",
   "id": "b457df5b",
   "metadata": {},
   "source": [
    "## Mutable and unmutable objects"
   ]
  },
  {
   "cell_type": "code",
   "execution_count": null,
   "id": "260586db",
   "metadata": {},
   "outputs": [],
   "source": []
  }
 ],
 "metadata": {
  "kernelspec": {
   "display_name": "Python 3 (ipykernel)",
   "language": "python",
   "name": "python3"
  },
  "language_info": {
   "codemirror_mode": {
    "name": "ipython",
    "version": 3
   },
   "file_extension": ".py",
   "mimetype": "text/x-python",
   "name": "python",
   "nbconvert_exporter": "python",
   "pygments_lexer": "ipython3",
   "version": "3.8.10"
  }
 },
 "nbformat": 4,
 "nbformat_minor": 5
}
