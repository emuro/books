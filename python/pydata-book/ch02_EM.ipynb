{
 "cells": [
  {
   "cell_type": "markdown",
   "id": "fc27093c",
   "metadata": {},
   "source": [
    "# EM on chapter 2 of the book \n",
    "---"
   ]
  },
  {
   "cell_type": "code",
   "execution_count": 17,
   "id": "e1abe04b",
   "metadata": {},
   "outputs": [],
   "source": [
    "import numpy.random as np "
   ]
  },
  {
   "cell_type": "markdown",
   "id": "a53f2016",
   "metadata": {},
   "source": [
    "### EM normal distribution"
   ]
  },
  {
   "cell_type": "code",
   "execution_count": 21,
   "id": "500861e3",
   "metadata": {},
   "outputs": [
    {
     "data": {
      "text/plain": [
       "{0: 1529,\n",
       " 1: 1625,\n",
       " 2: 2059,\n",
       " 3: 1474,\n",
       " 4: 1768,\n",
       " 5: 1216,\n",
       " 6: 1626,\n",
       " 7: 1477,\n",
       " 8: 1482,\n",
       " 9: 1680,\n",
       " 10: 1664,\n",
       " 11: 2247,\n",
       " 12: 1571,\n",
       " 13: 2021,\n",
       " 14: 1428,\n",
       " 15: 1687,\n",
       " 16: 1292,\n",
       " 17: 1931,\n",
       " 18: 1006,\n",
       " 19: 909}"
      ]
     },
     "execution_count": 21,
     "metadata": {},
     "output_type": "execute_result"
    }
   ],
   "source": [
    "mu = 3*550\n",
    "sigma = 300 # 0.45 varia 1 alredor de mu\n",
    "data = {i: int(mu+sigma*np.randn()) for i in range(20)}\n",
    "data"
   ]
  },
  {
   "cell_type": "markdown",
   "id": "8ba12af6",
   "metadata": {},
   "source": [
    "### jupyter book example (with variations)"
   ]
  },
  {
   "cell_type": "code",
   "execution_count": 61,
   "id": "f6f9f870",
   "metadata": {},
   "outputs": [
    {
     "data": {
      "text/plain": [
       "'/home/emuro/git/github/books/python/pydata-book'"
      ]
     },
     "execution_count": 61,
     "metadata": {},
     "output_type": "execute_result"
    }
   ],
   "source": [
    "path=%pwd\n",
    "path"
   ]
  },
  {
   "cell_type": "code",
   "execution_count": 62,
   "id": "9c31661d",
   "metadata": {},
   "outputs": [
    {
     "name": "stdout",
     "output_type": "stream",
     "text": [
      "./datasets/bitly_usagov\n",
      "└── example.txt\n",
      "\n",
      "0 directories, 1 file\n"
     ]
    }
   ],
   "source": [
    "%%bash\n",
    "find . -iname \"*usagov*\" -exec tree {} \\;"
   ]
  },
  {
   "cell_type": "code",
   "execution_count": 64,
   "id": "1c8f0b51",
   "metadata": {},
   "outputs": [
    {
     "name": "stdout",
     "output_type": "stream",
     "text": [
      "{ \"a\": \"Mozilla\\/5.0 (Windows NT 6.1; WOW64) AppleWebKit\\/535.11 (KHTML, like Gecko) Chrome\\/17.0.963.78 Safari\\/535.11\", \"c\": \"US\", \"nk\": 1, \"tz\": \"America\\/New_York\", \"gr\": \"MA\", \"g\": \"A6qOVH\", \"h\": \"wfLQtf\", \"l\": \"orofrog\", \"al\": \"en-US,en;q=0.8\", \"hh\": \"1.usa.gov\", \"r\": \"http:\\/\\/www.facebook.com\\/l\\/7AQEFzjSi\\/1.usa.gov\\/wfLQtf\", \"u\": \"http:\\/\\/www.ncbi.nlm.nih.gov\\/pubmed\\/22415991\", \"t\": 1331923247, \"hc\": 1331822918, \"cy\": \"Danvers\", \"ll\": [ 42.576698, -70.954903 ] }\n",
      "\n"
     ]
    }
   ],
   "source": [
    "file_h = open('/home/emuro/git/github/books/python/pydata-book/datasets/bitly_usagov/example.txt')\n",
    "line = file_h.readline()\n",
    "print(line)\n",
    "file_h.close()"
   ]
  },
  {
   "cell_type": "code",
   "execution_count": 65,
   "id": "049804ef",
   "metadata": {},
   "outputs": [],
   "source": [
    "# Now with json\n",
    "import json\n",
    "file = '/home/emuro/git/github/books/python/pydata-book/datasets/bitly_usagov/example.txt'\n",
    "records = [json.loads(line) for line in open(file)]"
   ]
  },
  {
   "cell_type": "code",
   "execution_count": 75,
   "id": "d536d0d4",
   "metadata": {},
   "outputs": [
    {
     "name": "stdout",
     "output_type": "stream",
     "text": [
      "{'a': 'Mozilla/5.0 (Windows NT 6.1; WOW64) AppleWebKit/535.11 (KHTML, like Gecko) Chrome/17.0.963.78 Safari/535.11', 'c': 'US', 'nk': 1, 'tz': 'America/New_York', 'gr': 'MA', 'g': 'A6qOVH', 'h': 'wfLQtf', 'l': 'orofrog', 'al': 'en-US,en;q=0.8', 'hh': '1.usa.gov', 'r': 'http://www.facebook.com/l/7AQEFzjSi/1.usa.gov/wfLQtf', 'u': 'http://www.ncbi.nlm.nih.gov/pubmed/22415991', 't': 1331923247, 'hc': 1331822918, 'cy': 'Danvers', 'll': [42.576698, -70.954903]}\n",
      "America/New_York\n"
     ]
    },
    {
     "data": {
      "text/plain": [
       "'America/New_York'"
      ]
     },
     "execution_count": 75,
     "metadata": {},
     "output_type": "execute_result"
    }
   ],
   "source": [
    "print(records[0])\n",
    "print(records[0]['tz'])\n",
    "location = records[0]['tz']\n",
    "location # TAB fill-in"
   ]
  },
  {
   "cell_type": "code",
   "execution_count": null,
   "id": "85a9b4e6",
   "metadata": {},
   "outputs": [],
   "source": []
  },
  {
   "cell_type": "code",
   "execution_count": 76,
   "id": "35b75500",
   "metadata": {},
   "outputs": [
    {
     "data": {
      "text/plain": [
       "1"
      ]
     },
     "execution_count": 76,
     "metadata": {},
     "output_type": "execute_result"
    }
   ],
   "source": [
    "b = [1,2,3]\n",
    "b.count(2) # tag fill-in"
   ]
  },
  {
   "cell_type": "code",
   "execution_count": 82,
   "id": "821547a1",
   "metadata": {},
   "outputs": [
    {
     "data": {
      "text/plain": [
       "datetime.datetime(2022, 3, 10, 15, 38, 2, 365745)"
      ]
     },
     "execution_count": 82,
     "metadata": {},
     "output_type": "execute_result"
    }
   ],
   "source": [
    "import datetime \n",
    "datetime.datetime.now()"
   ]
  },
  {
   "cell_type": "code",
   "execution_count": null,
   "id": "d1847ad0",
   "metadata": {},
   "outputs": [],
   "source": []
  },
  {
   "cell_type": "markdown",
   "id": "31bd6d10",
   "metadata": {},
   "source": [
    "## variables (binding)"
   ]
  },
  {
   "cell_type": "code",
   "execution_count": 3,
   "id": "8053a872",
   "metadata": {},
   "outputs": [
    {
     "name": "stdout",
     "output_type": "stream",
     "text": [
      "[1, 2, 3, 4]\n"
     ]
    }
   ],
   "source": [
    "# assigner\n",
    "a = [1,2,3]\n",
    "b = a # it is not a cp: a and b points to the same\n",
    "a.append(4) \n",
    "print(b)"
   ]
  },
  {
   "cell_type": "code",
   "execution_count": null,
   "id": "50a15a4f",
   "metadata": {},
   "outputs": [],
   "source": []
  },
  {
   "cell_type": "markdown",
   "id": "0546856a",
   "metadata": {},
   "source": [
    "## It is relatively complicated (functions old by reference, value)"
   ]
  },
  {
   "cell_type": "code",
   "execution_count": 21,
   "id": "859d538c",
   "metadata": {},
   "outputs": [
    {
     "name": "stdout",
     "output_type": "stream",
     "text": [
      "False\n",
      "five inside the function: 5\n",
      "five outside the function: 5\n"
     ]
    }
   ],
   "source": [
    "# function arguments (do not bind)\n",
    "def addition_plusOne(a, b):\n",
    "    \"\"\"\n",
    "    arithmetic addition\n",
    "    \"\"\"\n",
    "    a = a + 1\n",
    "    print(five==a)\n",
    "    print(\"five inside the function:\", five)\n",
    "    return a+b\n",
    "\n",
    "five = 5; six = 6\n",
    "addition_plusOne(five, six)\n",
    "print(\"five outside the function:\", five)"
   ]
  },
  {
   "cell_type": "code",
   "execution_count": 35,
   "id": "c961091a",
   "metadata": {},
   "outputs": [
    {
     "name": "stdout",
     "output_type": "stream",
     "text": [
      "True\n",
      "inside f() 1: my_list [3, 2, 1, 0]\n",
      "inside f() 2: some_list [3, 2, 1, 0, 1, 1]\n",
      "inside f() 3: my_list [3, 2, 1, 0, 1, 1]\n",
      "inside f() 3: some_list [3, 1]\n",
      "outside f() [3, 2, 1, 0, 1, 1]\n",
      "0\n"
     ]
    }
   ],
   "source": [
    "def append_to_list(some_list, element):\n",
    "    print(some_list == my_list)\n",
    "    my_list.append(element)\n",
    "    print(\"inside f() 1: my_list\", my_list)\n",
    "    \n",
    "    element = element + 1\n",
    "    some_list.append(element)\n",
    "    some_list.append(element)\n",
    "    print(\"inside f() 2: some_list\", some_list)\n",
    "    \n",
    "    some_list = [3]\n",
    "    some_list.append(element)\n",
    "    print(\"inside f() 3: my_list\", my_list)\n",
    "    print(\"inside f() 3: some_list\", some_list)\n",
    "\n",
    "my_list = [3,2,1]\n",
    "my_element = 0\n",
    "append_to_list(my_list, my_element) # binding! my_list will be modified!\n",
    "print(\"outside f()\", my_list)\n",
    "print(my_element)"
   ]
  },
  {
   "cell_type": "code",
   "execution_count": null,
   "id": "ccd7ff73",
   "metadata": {},
   "outputs": [],
   "source": []
  },
  {
   "cell_type": "markdown",
   "id": "aa96ab5e",
   "metadata": {},
   "source": [
    "## variables as object references"
   ]
  },
  {
   "cell_type": "code",
   "execution_count": 42,
   "id": "e255eb60",
   "metadata": {},
   "outputs": [
    {
     "name": "stdout",
     "output_type": "stream",
     "text": [
      "5 <class 'int'>\n",
      "5 <class 'str'>\n"
     ]
    }
   ],
   "source": [
    "# variables binding to different types\n",
    "a = 5\n",
    "print(a, type(a))\n",
    "\n",
    "a = \"5\"\n",
    "print(a, type(a))"
   ]
  },
  {
   "cell_type": "code",
   "execution_count": null,
   "id": "61e4532f",
   "metadata": {},
   "outputs": [],
   "source": []
  },
  {
   "cell_type": "code",
   "execution_count": 44,
   "id": "686f9130",
   "metadata": {},
   "outputs": [
    {
     "name": "stdout",
     "output_type": "stream",
     "text": [
      "5 <class 'int'>\n",
      "10 <class 'int'>\n"
     ]
    }
   ],
   "source": [
    "a = 5\n",
    "print(a, type(a))\n",
    "\n",
    "b = \"5\" \n",
    "c = a + int(b)\n",
    "print(c, type(c))"
   ]
  },
  {
   "cell_type": "code",
   "execution_count": null,
   "id": "22459c2d",
   "metadata": {},
   "outputs": [],
   "source": []
  },
  {
   "cell_type": "code",
   "execution_count": 47,
   "id": "913d4786",
   "metadata": {},
   "outputs": [
    {
     "name": "stdout",
     "output_type": "stream",
     "text": [
      "5 <class 'int'>\n",
      "55 <class 'str'>\n"
     ]
    }
   ],
   "source": [
    "a = 5\n",
    "print(a, type(a))\n",
    "\n",
    "b = \"5\" \n",
    "c = str(a) + b\n",
    "print(c, type(c))"
   ]
  },
  {
   "cell_type": "code",
   "execution_count": null,
   "id": "e22e41d8",
   "metadata": {},
   "outputs": [],
   "source": []
  },
  {
   "cell_type": "code",
   "execution_count": 51,
   "id": "9e610054",
   "metadata": {},
   "outputs": [
    {
     "name": "stdout",
     "output_type": "stream",
     "text": [
      "False\n",
      "False\n",
      "True\n"
     ]
    }
   ],
   "source": [
    "# isinstance\n",
    "a = 5.5\n",
    "print(isinstance(a, int))\n",
    "print(isinstance(a, (int, str)))\n",
    "print(isinstance(a, (int, str, float)))"
   ]
  },
  {
   "cell_type": "code",
   "execution_count": null,
   "id": "7425f9e5",
   "metadata": {},
   "outputs": [],
   "source": []
  },
  {
   "cell_type": "code",
   "execution_count": 62,
   "id": "8475973c",
   "metadata": {},
   "outputs": [
    {
     "data": {
      "text/plain": [
       "<function str.split(sep=None, maxsplit=-1)>"
      ]
     },
     "execution_count": 62,
     "metadata": {},
     "output_type": "execute_result"
    }
   ],
   "source": [
    "## getattr\n",
    "a = \"5\"\n",
    "\n",
    "getattr(a, 'split')\n",
    "#print(getattr(a, 'split'))\n"
   ]
  },
  {
   "cell_type": "code",
   "execution_count": null,
   "id": "a9c93bdf",
   "metadata": {},
   "outputs": [],
   "source": []
  },
  {
   "cell_type": "markdown",
   "id": "88192b7b",
   "metadata": {},
   "source": [
    "## Iterable iter()"
   ]
  },
  {
   "cell_type": "code",
   "execution_count": 70,
   "id": "d4eac40f",
   "metadata": {},
   "outputs": [
    {
     "name": "stdout",
     "output_type": "stream",
     "text": [
      "It's iterable!\n",
      "It's iterable!\n",
      "It's iterable!\n",
      "It's not iterable!\n"
     ]
    }
   ],
   "source": [
    "def is_iterable(query_obj):\n",
    "    try:\n",
    "        iter(query_obj)\n",
    "        print(\"It's iterable!\")\n",
    "    except:\n",
    "        print(\"It's not iterable!\")\n",
    "\n",
    "is_iterable([2,3,5,7,8])\n",
    "is_iterable(\"potato\")\n",
    "is_iterable(\"p\")\n",
    "is_iterable(5)\n"
   ]
  },
  {
   "cell_type": "code",
   "execution_count": null,
   "id": "fef8205f",
   "metadata": {},
   "outputs": [],
   "source": []
  },
  {
   "cell_type": "markdown",
   "id": "b457df5b",
   "metadata": {},
   "source": [
    "## Mutable and unmutable objects"
   ]
  },
  {
   "cell_type": "code",
   "execution_count": null,
   "id": "260586db",
   "metadata": {},
   "outputs": [],
   "source": []
  },
  {
   "cell_type": "markdown",
   "id": "f91a50a1",
   "metadata": {},
   "source": [
    "### format str"
   ]
  },
  {
   "cell_type": "code",
   "execution_count": 32,
   "id": "75be7293",
   "metadata": {},
   "outputs": [
    {
     "name": "stdout",
     "output_type": "stream",
     "text": [
      "a 2.34 euros el kilo de calamares. Durante las próximas 3 horas.\n"
     ]
    }
   ],
   "source": [
    "template = 'a {0:.2f} euros el kilo de {1:s}. Durante las próximas {2:d} horas.'\n",
    "print(template.format(2.34, \"calamares\", 3)) # format"
   ]
  },
  {
   "cell_type": "code",
   "execution_count": 35,
   "id": "81709f35",
   "metadata": {},
   "outputs": [
    {
     "name": "stdout",
     "output_type": "stream",
     "text": [
      "a 4.449 euros el kilo de squid. Aprovecha durante las próximas 5 horas!\n"
     ]
    }
   ],
   "source": [
    "euros = 4.4490137809\n",
    "product = \"squid\"\n",
    "quantity = 5\n",
    "print(f\"a {euros:.3f} euros el kilo de {product:s}. Aprovecha durante las próximas {quantity:d} horas!\")"
   ]
  },
  {
   "cell_type": "code",
   "execution_count": null,
   "id": "622fb7ea",
   "metadata": {},
   "outputs": [],
   "source": []
  },
  {
   "cell_type": "markdown",
   "id": "4487a29c",
   "metadata": {},
   "source": [
    "## unicode/utf-8"
   ]
  },
  {
   "cell_type": "code",
   "execution_count": 36,
   "id": "769d1424",
   "metadata": {},
   "outputs": [
    {
     "name": "stdout",
     "output_type": "stream",
     "text": [
      "b'h\\xc3\\xadjole!, un espa\\xc3\\xb1ol'\n",
      "<class 'bytes'>\n",
      "ñíñí\n",
      "<class 'bytes'>\n",
      "<class 'str'>\n"
     ]
    }
   ],
   "source": [
    "### utf-8\n",
    "text = \"híjole!, un español\"\n",
    "var_utf8 = text.encode('utf-8')\n",
    "print(var_utf8)\n",
    "print(type(var_utf8))\n",
    "new_var_utf8 = b'\\xc3\\xb1\\xc3\\xad\\xc3\\xb1\\xc3\\xad'\n",
    "print(new_var_utf8.decode('utf-8'))\n",
    "print(type(new_var_utf8))\n",
    "print(type(new_var_utf8.decode('utf-8'))) "
   ]
  },
  {
   "cell_type": "code",
   "execution_count": null,
   "id": "f78a9856",
   "metadata": {},
   "outputs": [],
   "source": []
  },
  {
   "cell_type": "code",
   "execution_count": 42,
   "id": "51743187",
   "metadata": {},
   "outputs": [
    {
     "name": "stdout",
     "output_type": "stream",
     "text": [
      "Help on class bool in module builtins:\n",
      "\n",
      "class bool(int)\n",
      " |  bool(x) -> bool\n",
      " |  \n",
      " |  Returns True when the argument x is true, False otherwise.\n",
      " |  The builtins True and False are the only two instances of the class bool.\n",
      " |  The class bool is a subclass of the class int, and cannot be subclassed.\n",
      " |  \n",
      " |  Method resolution order:\n",
      " |      bool\n",
      " |      int\n",
      " |      object\n",
      " |  \n",
      " |  Methods defined here:\n",
      " |  \n",
      " |  __and__(self, value, /)\n",
      " |      Return self&value.\n",
      " |  \n",
      " |  __or__(self, value, /)\n",
      " |      Return self|value.\n",
      " |  \n",
      " |  __rand__(self, value, /)\n",
      " |      Return value&self.\n",
      " |  \n",
      " |  __repr__(self, /)\n",
      " |      Return repr(self).\n",
      " |  \n",
      " |  __ror__(self, value, /)\n",
      " |      Return value|self.\n",
      " |  \n",
      " |  __rxor__(self, value, /)\n",
      " |      Return value^self.\n",
      " |  \n",
      " |  __xor__(self, value, /)\n",
      " |      Return self^value.\n",
      " |  \n",
      " |  ----------------------------------------------------------------------\n",
      " |  Static methods defined here:\n",
      " |  \n",
      " |  __new__(*args, **kwargs) from builtins.type\n",
      " |      Create and return a new object.  See help(type) for accurate signature.\n",
      " |  \n",
      " |  ----------------------------------------------------------------------\n",
      " |  Methods inherited from int:\n",
      " |  \n",
      " |  __abs__(self, /)\n",
      " |      abs(self)\n",
      " |  \n",
      " |  __add__(self, value, /)\n",
      " |      Return self+value.\n",
      " |  \n",
      " |  __bool__(self, /)\n",
      " |      self != 0\n",
      " |  \n",
      " |  __ceil__(...)\n",
      " |      Ceiling of an Integral returns itself.\n",
      " |  \n",
      " |  __divmod__(self, value, /)\n",
      " |      Return divmod(self, value).\n",
      " |  \n",
      " |  __eq__(self, value, /)\n",
      " |      Return self==value.\n",
      " |  \n",
      " |  __float__(self, /)\n",
      " |      float(self)\n",
      " |  \n",
      " |  __floor__(...)\n",
      " |      Flooring an Integral returns itself.\n",
      " |  \n",
      " |  __floordiv__(self, value, /)\n",
      " |      Return self//value.\n",
      " |  \n",
      " |  __format__(self, format_spec, /)\n",
      " |      Default object formatter.\n",
      " |  \n",
      " |  __ge__(self, value, /)\n",
      " |      Return self>=value.\n",
      " |  \n",
      " |  __getattribute__(self, name, /)\n",
      " |      Return getattr(self, name).\n",
      " |  \n",
      " |  __getnewargs__(self, /)\n",
      " |  \n",
      " |  __gt__(self, value, /)\n",
      " |      Return self>value.\n",
      " |  \n",
      " |  __hash__(self, /)\n",
      " |      Return hash(self).\n",
      " |  \n",
      " |  __index__(self, /)\n",
      " |      Return self converted to an integer, if self is suitable for use as an index into a list.\n",
      " |  \n",
      " |  __int__(self, /)\n",
      " |      int(self)\n",
      " |  \n",
      " |  __invert__(self, /)\n",
      " |      ~self\n",
      " |  \n",
      " |  __le__(self, value, /)\n",
      " |      Return self<=value.\n",
      " |  \n",
      " |  __lshift__(self, value, /)\n",
      " |      Return self<<value.\n",
      " |  \n",
      " |  __lt__(self, value, /)\n",
      " |      Return self<value.\n",
      " |  \n",
      " |  __mod__(self, value, /)\n",
      " |      Return self%value.\n",
      " |  \n",
      " |  __mul__(self, value, /)\n",
      " |      Return self*value.\n",
      " |  \n",
      " |  __ne__(self, value, /)\n",
      " |      Return self!=value.\n",
      " |  \n",
      " |  __neg__(self, /)\n",
      " |      -self\n",
      " |  \n",
      " |  __pos__(self, /)\n",
      " |      +self\n",
      " |  \n",
      " |  __pow__(self, value, mod=None, /)\n",
      " |      Return pow(self, value, mod).\n",
      " |  \n",
      " |  __radd__(self, value, /)\n",
      " |      Return value+self.\n",
      " |  \n",
      " |  __rdivmod__(self, value, /)\n",
      " |      Return divmod(value, self).\n",
      " |  \n",
      " |  __rfloordiv__(self, value, /)\n",
      " |      Return value//self.\n",
      " |  \n",
      " |  __rlshift__(self, value, /)\n",
      " |      Return value<<self.\n",
      " |  \n",
      " |  __rmod__(self, value, /)\n",
      " |      Return value%self.\n",
      " |  \n",
      " |  __rmul__(self, value, /)\n",
      " |      Return value*self.\n",
      " |  \n",
      " |  __round__(...)\n",
      " |      Rounding an Integral returns itself.\n",
      " |      Rounding with an ndigits argument also returns an integer.\n",
      " |  \n",
      " |  __rpow__(self, value, mod=None, /)\n",
      " |      Return pow(value, self, mod).\n",
      " |  \n",
      " |  __rrshift__(self, value, /)\n",
      " |      Return value>>self.\n",
      " |  \n",
      " |  __rshift__(self, value, /)\n",
      " |      Return self>>value.\n",
      " |  \n",
      " |  __rsub__(self, value, /)\n",
      " |      Return value-self.\n",
      " |  \n",
      " |  __rtruediv__(self, value, /)\n",
      " |      Return value/self.\n",
      " |  \n",
      " |  __sizeof__(self, /)\n",
      " |      Returns size in memory, in bytes.\n",
      " |  \n",
      " |  __sub__(self, value, /)\n",
      " |      Return self-value.\n",
      " |  \n",
      " |  __truediv__(self, value, /)\n",
      " |      Return self/value.\n",
      " |  \n",
      " |  __trunc__(...)\n",
      " |      Truncating an Integral returns itself.\n",
      " |  \n",
      " |  as_integer_ratio(self, /)\n",
      " |      Return integer ratio.\n",
      " |      \n",
      " |      Return a pair of integers, whose ratio is exactly equal to the original int\n",
      " |      and with a positive denominator.\n",
      " |      \n",
      " |      >>> (10).as_integer_ratio()\n",
      " |      (10, 1)\n",
      " |      >>> (-10).as_integer_ratio()\n",
      " |      (-10, 1)\n",
      " |      >>> (0).as_integer_ratio()\n",
      " |      (0, 1)\n",
      " |  \n",
      " |  bit_length(self, /)\n",
      " |      Number of bits necessary to represent self in binary.\n",
      " |      \n",
      " |      >>> bin(37)\n",
      " |      '0b100101'\n",
      " |      >>> (37).bit_length()\n",
      " |      6\n",
      " |  \n",
      " |  conjugate(...)\n",
      " |      Returns self, the complex conjugate of any int.\n",
      " |  \n",
      " |  to_bytes(self, /, length, byteorder, *, signed=False)\n",
      " |      Return an array of bytes representing an integer.\n",
      " |      \n",
      " |      length\n",
      " |        Length of bytes object to use.  An OverflowError is raised if the\n",
      " |        integer is not representable with the given number of bytes.\n",
      " |      byteorder\n",
      " |        The byte order used to represent the integer.  If byteorder is 'big',\n",
      " |        the most significant byte is at the beginning of the byte array.  If\n",
      " |        byteorder is 'little', the most significant byte is at the end of the\n",
      " |        byte array.  To request the native byte order of the host system, use\n",
      " |        `sys.byteorder' as the byte order value.\n",
      " |      signed\n",
      " |        Determines whether two's complement is used to represent the integer.\n",
      " |        If signed is False and a negative integer is given, an OverflowError\n",
      " |        is raised.\n",
      " |  \n",
      " |  ----------------------------------------------------------------------\n",
      " |  Class methods inherited from int:\n",
      " |  \n",
      " |  from_bytes(bytes, byteorder, *, signed=False) from builtins.type\n",
      " |      Return the integer represented by the given array of bytes.\n",
      " |      \n",
      " |      bytes\n",
      " |        Holds the array of bytes to convert.  The argument must either\n",
      " |        support the buffer protocol or be an iterable object producing bytes.\n",
      " |        Bytes and bytearray are examples of built-in objects that support the\n",
      " |        buffer protocol.\n",
      " |      byteorder\n",
      " |        The byte order used to represent the integer.  If byteorder is 'big',\n",
      " |        the most significant byte is at the beginning of the byte array.  If\n",
      " |        byteorder is 'little', the most significant byte is at the end of the\n",
      " |        byte array.  To request the native byte order of the host system, use\n",
      " |        `sys.byteorder' as the byte order value.\n",
      " |      signed\n",
      " |        Indicates whether two's complement is used to represent the integer.\n",
      " |  \n",
      " |  ----------------------------------------------------------------------\n",
      " |  Data descriptors inherited from int:\n",
      " |  \n",
      " |  denominator\n",
      " |      the denominator of a rational number in lowest terms\n",
      " |  \n",
      " |  imag\n",
      " |      the imaginary part of a complex number\n",
      " |  \n",
      " |  numerator\n",
      " |      the numerator of a rational number in lowest terms\n",
      " |  \n",
      " |  real\n",
      " |      the real part of a complex number\n",
      "\n"
     ]
    }
   ],
   "source": [
    "help(bool)"
   ]
  },
  {
   "cell_type": "code",
   "execution_count": 41,
   "id": "0f893f0a",
   "metadata": {},
   "outputs": [
    {
     "name": "stdout",
     "output_type": "stream",
     "text": [
      "True\n",
      "False\n",
      "True\n",
      "False\n"
     ]
    }
   ],
   "source": [
    "print(bool(3.4))\n",
    "print(bool(0.0))\n",
    "print(bool(1))\n",
    "print(bool(0))"
   ]
  },
  {
   "cell_type": "code",
   "execution_count": 45,
   "id": "2c907de3",
   "metadata": {},
   "outputs": [
    {
     "name": "stdout",
     "output_type": "stream",
     "text": [
      "<class 'NoneType'>\n"
     ]
    },
    {
     "data": {
      "text/plain": [
       "True"
      ]
     },
     "execution_count": 45,
     "metadata": {},
     "output_type": "execute_result"
    }
   ],
   "source": [
    "a = None\n",
    "print(type(None))\n",
    "a == None"
   ]
  },
  {
   "cell_type": "code",
   "execution_count": null,
   "id": "5bceaca7",
   "metadata": {},
   "outputs": [],
   "source": []
  }
 ],
 "metadata": {
  "kernelspec": {
   "display_name": "Python 3 (ipykernel)",
   "language": "python",
   "name": "python3"
  },
  "language_info": {
   "codemirror_mode": {
    "name": "ipython",
    "version": 3
   },
   "file_extension": ".py",
   "mimetype": "text/x-python",
   "name": "python",
   "nbconvert_exporter": "python",
   "pygments_lexer": "ipython3",
   "version": "3.8.10"
  }
 },
 "nbformat": 4,
 "nbformat_minor": 5
}
